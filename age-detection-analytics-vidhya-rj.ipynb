{
 "cells": [
  {
   "cell_type": "code",
   "execution_count": 1,
   "id": "1c6839c0",
   "metadata": {
    "_cell_guid": "b1076dfc-b9ad-4769-8c92-a6c4dae69d19",
    "_uuid": "8f2839f25d086af736a60e9eeb907d3b93b6e0e5",
    "execution": {
     "iopub.execute_input": "2023-04-07T17:53:32.995943Z",
     "iopub.status.busy": "2023-04-07T17:53:32.994775Z",
     "iopub.status.idle": "2023-04-07T17:53:41.000573Z",
     "shell.execute_reply": "2023-04-07T17:53:40.999202Z"
    },
    "papermill": {
     "duration": 8.031355,
     "end_time": "2023-04-07T17:53:41.003353",
     "exception": false,
     "start_time": "2023-04-07T17:53:32.971998",
     "status": "completed"
    },
    "tags": []
   },
   "outputs": [],
   "source": [
    "import numpy as np, pandas as pd, matplotlib.pyplot as plt, seaborn as sns, tensorflow as tf, cv2, shutil\n",
    "from tqdm import tqdm\n",
    "tqdm.pandas()\n",
    "from keras.layers import Input, Lambda, Dense, Flatten\n",
    "from keras.models import Model\n",
    "from keras.applications.vgg16 import VGG16\n",
    "from keras.applications.vgg16 import preprocess_input\n",
    "from tensorflow.keras.applications.resnet50 import ResNet50\n",
    "from tensorflow.keras.applications.resnet50 import preprocess_input, decode_predictions\n",
    "from keras.preprocessing import image\n",
    "from keras.preprocessing.image import ImageDataGenerator\n",
    "from keras.utils import save_img\n",
    "from keras.models import Sequential\n",
    "from keras.layers import Conv2D, LeakyReLU, BatchNormalization, MaxPooling2D, Dropout, GlobalAveragePooling2D\n",
    "from keras.callbacks import TensorBoard\n",
    "from glob import glob\n",
    "from sklearn import preprocessing\n",
    "from sklearn.model_selection import StratifiedKFold\n",
    "from tensorflow.keras.applications.inception_v3 import InceptionV3\n",
    "from tensorflow.keras.optimizers import RMSprop\n",
    "from tensorflow.keras.applications.densenet import DenseNet121\n",
    "from tensorflow.keras.applications.efficientnet import EfficientNetB2, EfficientNetB7"
   ]
  },
  {
   "cell_type": "code",
   "execution_count": 2,
   "id": "eda8bda1",
   "metadata": {
    "execution": {
     "iopub.execute_input": "2023-04-07T17:53:41.046473Z",
     "iopub.status.busy": "2023-04-07T17:53:41.045113Z",
     "iopub.status.idle": "2023-04-07T17:53:41.050422Z",
     "shell.execute_reply": "2023-04-07T17:53:41.049509Z"
    },
    "papermill": {
     "duration": 0.028034,
     "end_time": "2023-04-07T17:53:41.052500",
     "exception": false,
     "start_time": "2023-04-07T17:53:41.024466",
     "status": "completed"
    },
    "tags": []
   },
   "outputs": [],
   "source": [
    "# shutil.rmtree(\"/kaggle/working/\")   ## To delete all directories present in output"
   ]
  },
  {
   "cell_type": "code",
   "execution_count": 3,
   "id": "786af90c",
   "metadata": {
    "execution": {
     "iopub.execute_input": "2023-04-07T17:53:41.092807Z",
     "iopub.status.busy": "2023-04-07T17:53:41.091120Z",
     "iopub.status.idle": "2023-04-07T17:53:41.117720Z",
     "shell.execute_reply": "2023-04-07T17:53:41.116635Z"
    },
    "papermill": {
     "duration": 0.048946,
     "end_time": "2023-04-07T17:53:41.120313",
     "exception": false,
     "start_time": "2023-04-07T17:53:41.071367",
     "status": "completed"
    },
    "tags": []
   },
   "outputs": [
    {
     "data": {
      "text/plain": [
       "(6636, 1)"
      ]
     },
     "execution_count": 3,
     "metadata": {},
     "output_type": "execute_result"
    }
   ],
   "source": [
    "test_csv = pd.read_csv('/kaggle/input/age-detection-analytics-vidhya-peter/test_Bh8pGW3/test.csv')\n",
    "test_csv.shape"
   ]
  },
  {
   "cell_type": "code",
   "execution_count": 4,
   "id": "0b5a417e",
   "metadata": {
    "execution": {
     "iopub.execute_input": "2023-04-07T17:53:41.161305Z",
     "iopub.status.busy": "2023-04-07T17:53:41.159729Z",
     "iopub.status.idle": "2023-04-07T17:53:41.189784Z",
     "shell.execute_reply": "2023-04-07T17:53:41.188760Z"
    },
    "papermill": {
     "duration": 0.052253,
     "end_time": "2023-04-07T17:53:41.192036",
     "exception": false,
     "start_time": "2023-04-07T17:53:41.139783",
     "status": "completed"
    },
    "tags": []
   },
   "outputs": [
    {
     "data": {
      "text/plain": [
       "(19906, 2)"
      ]
     },
     "execution_count": 4,
     "metadata": {},
     "output_type": "execute_result"
    }
   ],
   "source": [
    "train_csv = pd.read_csv('/kaggle/input/age-detection-analytics-vidhya-peter/train_DETg9GD/train.csv')\n",
    "train_csv.shape"
   ]
  },
  {
   "cell_type": "code",
   "execution_count": 5,
   "id": "8ffc6496",
   "metadata": {
    "execution": {
     "iopub.execute_input": "2023-04-07T17:53:41.233275Z",
     "iopub.status.busy": "2023-04-07T17:53:41.231613Z",
     "iopub.status.idle": "2023-04-07T17:53:41.236605Z",
     "shell.execute_reply": "2023-04-07T17:53:41.235668Z"
    },
    "papermill": {
     "duration": 0.027379,
     "end_time": "2023-04-07T17:53:41.238745",
     "exception": false,
     "start_time": "2023-04-07T17:53:41.211366",
     "status": "completed"
    },
    "tags": []
   },
   "outputs": [],
   "source": [
    "# train_csv['Class'].unique()"
   ]
  },
  {
   "cell_type": "code",
   "execution_count": 6,
   "id": "ceba9219",
   "metadata": {
    "execution": {
     "iopub.execute_input": "2023-04-07T17:53:41.279270Z",
     "iopub.status.busy": "2023-04-07T17:53:41.278886Z",
     "iopub.status.idle": "2023-04-07T17:53:41.303824Z",
     "shell.execute_reply": "2023-04-07T17:53:41.302731Z"
    },
    "papermill": {
     "duration": 0.048166,
     "end_time": "2023-04-07T17:53:41.305998",
     "exception": false,
     "start_time": "2023-04-07T17:53:41.257832",
     "status": "completed"
    },
    "tags": []
   },
   "outputs": [
    {
     "data": {
      "text/html": [
       "<div>\n",
       "<style scoped>\n",
       "    .dataframe tbody tr th:only-of-type {\n",
       "        vertical-align: middle;\n",
       "    }\n",
       "\n",
       "    .dataframe tbody tr th {\n",
       "        vertical-align: top;\n",
       "    }\n",
       "\n",
       "    .dataframe thead th {\n",
       "        text-align: right;\n",
       "    }\n",
       "</style>\n",
       "<table border=\"1\" class=\"dataframe\">\n",
       "  <thead>\n",
       "    <tr style=\"text-align: right;\">\n",
       "      <th></th>\n",
       "      <th>Percentage</th>\n",
       "    </tr>\n",
       "  </thead>\n",
       "  <tbody>\n",
       "    <tr>\n",
       "      <th>MIDDLE</th>\n",
       "      <td>54.275093</td>\n",
       "    </tr>\n",
       "    <tr>\n",
       "      <th>OLD</th>\n",
       "      <td>33.688335</td>\n",
       "    </tr>\n",
       "    <tr>\n",
       "      <th>YOUNG</th>\n",
       "      <td>12.036572</td>\n",
       "    </tr>\n",
       "  </tbody>\n",
       "</table>\n",
       "</div>"
      ],
      "text/plain": [
       "        Percentage\n",
       "MIDDLE   54.275093\n",
       "OLD      33.688335\n",
       "YOUNG    12.036572"
      ]
     },
     "execution_count": 6,
     "metadata": {},
     "output_type": "execute_result"
    }
   ],
   "source": [
    "## To see distribution of different classes\n",
    "dist = pd.DataFrame(train_csv['Class'].value_counts()/train_csv.shape[0]*100)\n",
    "# dist.rename(columns = {'Class': 'Percentage'}, inplace = True) ## To replace the columns name \n",
    "dist.columns = ['Percentage'] ## To replace the columns name if there is only one column\n",
    "dist.index = ['MIDDLE', 'OLD', 'YOUNG']\n",
    "dist.sort_values(by= ['Percentage'], ascending = False)\n",
    "dist"
   ]
  },
  {
   "cell_type": "code",
   "execution_count": 7,
   "id": "da6e6984",
   "metadata": {
    "execution": {
     "iopub.execute_input": "2023-04-07T17:53:41.347408Z",
     "iopub.status.busy": "2023-04-07T17:53:41.346377Z",
     "iopub.status.idle": "2023-04-07T17:53:41.351248Z",
     "shell.execute_reply": "2023-04-07T17:53:41.350326Z"
    },
    "papermill": {
     "duration": 0.027699,
     "end_time": "2023-04-07T17:53:41.353354",
     "exception": false,
     "start_time": "2023-04-07T17:53:41.325655",
     "status": "completed"
    },
    "tags": []
   },
   "outputs": [],
   "source": [
    "# train_csv['Class'].value_counts(dropna = False).plot(kind = 'bar',grid = True)\n",
    "# plt.title(\"Distribtuion of class counts in the training set\")\n",
    "# plt.xticks(rotation = 0)"
   ]
  },
  {
   "cell_type": "code",
   "execution_count": 8,
   "id": "ab3bb4f0",
   "metadata": {
    "execution": {
     "iopub.execute_input": "2023-04-07T17:53:41.394001Z",
     "iopub.status.busy": "2023-04-07T17:53:41.393646Z",
     "iopub.status.idle": "2023-04-07T17:53:41.398063Z",
     "shell.execute_reply": "2023-04-07T17:53:41.396980Z"
    },
    "papermill": {
     "duration": 0.027082,
     "end_time": "2023-04-07T17:53:41.400117",
     "exception": false,
     "start_time": "2023-04-07T17:53:41.373035",
     "status": "completed"
    },
    "tags": []
   },
   "outputs": [],
   "source": [
    "# train_csv.head()"
   ]
  },
  {
   "cell_type": "code",
   "execution_count": 9,
   "id": "2b872c59",
   "metadata": {
    "execution": {
     "iopub.execute_input": "2023-04-07T17:53:41.441062Z",
     "iopub.status.busy": "2023-04-07T17:53:41.440174Z",
     "iopub.status.idle": "2023-04-07T17:53:41.455734Z",
     "shell.execute_reply": "2023-04-07T17:53:41.454649Z"
    },
    "papermill": {
     "duration": 0.038257,
     "end_time": "2023-04-07T17:53:41.457848",
     "exception": false,
     "start_time": "2023-04-07T17:53:41.419591",
     "status": "completed"
    },
    "tags": []
   },
   "outputs": [
    {
     "data": {
      "text/plain": [
       "array([0, 2, 1])"
      ]
     },
     "execution_count": 9,
     "metadata": {},
     "output_type": "execute_result"
    }
   ],
   "source": [
    "## Label Encoding\n",
    "label_encoder = preprocessing.LabelEncoder()\n",
    "train_csv['Class'] = label_encoder.fit_transform(train_csv['Class'])\n",
    "train_csv['Class'].unique()"
   ]
  },
  {
   "cell_type": "code",
   "execution_count": 10,
   "id": "50c4e44e",
   "metadata": {
    "execution": {
     "iopub.execute_input": "2023-04-07T17:53:41.499373Z",
     "iopub.status.busy": "2023-04-07T17:53:41.498283Z",
     "iopub.status.idle": "2023-04-07T17:53:41.503312Z",
     "shell.execute_reply": "2023-04-07T17:53:41.502357Z"
    },
    "papermill": {
     "duration": 0.027843,
     "end_time": "2023-04-07T17:53:41.505416",
     "exception": false,
     "start_time": "2023-04-07T17:53:41.477573",
     "status": "completed"
    },
    "tags": []
   },
   "outputs": [],
   "source": [
    "# train_csv.head()"
   ]
  },
  {
   "cell_type": "markdown",
   "id": "f2b9d015",
   "metadata": {
    "papermill": {
     "duration": 0.019396,
     "end_time": "2023-04-07T17:53:41.544410",
     "exception": false,
     "start_time": "2023-04-07T17:53:41.525014",
     "status": "completed"
    },
    "tags": []
   },
   "source": [
    "**Hence, following encoding took place: Middle--> 0, Old--> 1, Young--> 2 (In alphabetical order)**"
   ]
  },
  {
   "cell_type": "code",
   "execution_count": 11,
   "id": "28064119",
   "metadata": {
    "execution": {
     "iopub.execute_input": "2023-04-07T17:53:41.586054Z",
     "iopub.status.busy": "2023-04-07T17:53:41.585129Z",
     "iopub.status.idle": "2023-04-07T17:53:41.590453Z",
     "shell.execute_reply": "2023-04-07T17:53:41.589476Z"
    },
    "papermill": {
     "duration": 0.02802,
     "end_time": "2023-04-07T17:53:41.592594",
     "exception": false,
     "start_time": "2023-04-07T17:53:41.564574",
     "status": "completed"
    },
    "tags": []
   },
   "outputs": [],
   "source": [
    "## Training and validation set spliting\n",
    "# train_csv_valid = train_csv[:6569] ## 0.33 valid set\n",
    "# train_csv_train = train_csv[6570:] ## 0.66 train set\n",
    "# train_csv_valid = train_csv.sample(frac=0.33)\n",
    "# train_csv_train = train_csv.drop(train_csv_valid.index)\n",
    "# print(train_csv_valid.shape)\n",
    "# print(train_csv_train.shape)\n",
    "\n",
    "## Train validation split using Stratified K-fold cross validation technique\n",
    "# X = train_csv['ID']\n",
    "# y = train_csv['Class']\n",
    "# skf = StratifiedKFold(n_splits = 5, shuffle = True, random_state = 42)\n",
    "# for train_idx, valid_idx in list(skf.split(X,y)):\n",
    "#     train_csv_train = train_csv.iloc[train_idx]\n",
    "#     train_csv_valid = train_csv.iloc[valid_idx]\n",
    "# #     print(train_csv_train.head(10))"
   ]
  },
  {
   "cell_type": "code",
   "execution_count": 12,
   "id": "6b9e61f5",
   "metadata": {
    "execution": {
     "iopub.execute_input": "2023-04-07T17:53:41.633201Z",
     "iopub.status.busy": "2023-04-07T17:53:41.632832Z",
     "iopub.status.idle": "2023-04-07T17:53:41.637180Z",
     "shell.execute_reply": "2023-04-07T17:53:41.636177Z"
    },
    "papermill": {
     "duration": 0.027106,
     "end_time": "2023-04-07T17:53:41.639316",
     "exception": false,
     "start_time": "2023-04-07T17:53:41.612210",
     "status": "completed"
    },
    "tags": []
   },
   "outputs": [],
   "source": [
    "# X = train_csv['ID']\n",
    "# X.shape"
   ]
  },
  {
   "cell_type": "code",
   "execution_count": 13,
   "id": "ddbff752",
   "metadata": {
    "execution": {
     "iopub.execute_input": "2023-04-07T17:53:41.679897Z",
     "iopub.status.busy": "2023-04-07T17:53:41.679559Z",
     "iopub.status.idle": "2023-04-07T17:53:41.684122Z",
     "shell.execute_reply": "2023-04-07T17:53:41.683077Z"
    },
    "papermill": {
     "duration": 0.027416,
     "end_time": "2023-04-07T17:53:41.686219",
     "exception": false,
     "start_time": "2023-04-07T17:53:41.658803",
     "status": "completed"
    },
    "tags": []
   },
   "outputs": [],
   "source": [
    "# train_csv_train.head()"
   ]
  },
  {
   "cell_type": "code",
   "execution_count": 14,
   "id": "2814f9fa",
   "metadata": {
    "execution": {
     "iopub.execute_input": "2023-04-07T17:53:41.727690Z",
     "iopub.status.busy": "2023-04-07T17:53:41.726750Z",
     "iopub.status.idle": "2023-04-07T17:53:52.422872Z",
     "shell.execute_reply": "2023-04-07T17:53:52.421459Z"
    },
    "papermill": {
     "duration": 10.719776,
     "end_time": "2023-04-07T17:53:52.425780",
     "exception": false,
     "start_time": "2023-04-07T17:53:41.706004",
     "status": "completed"
    },
    "tags": []
   },
   "outputs": [],
   "source": [
    "!mkdir /kaggle/working/Image_set/\n",
    "\n",
    "!mkdir /kaggle/working/Image_set/Train\n",
    "!mkdir /kaggle/working/Image_set/Train/0\n",
    "!mkdir /kaggle/working/Image_set/Train/1\n",
    "!mkdir /kaggle/working/Image_set/Train/2\n",
    "\n",
    "!mkdir /kaggle/working/Image_set/Valid\n",
    "!mkdir /kaggle/working/Image_set/Valid/0\n",
    "!mkdir /kaggle/working/Image_set/Valid/1\n",
    "!mkdir /kaggle/working/Image_set/Valid/2\n",
    "\n",
    "!mkdir /kaggle/working/Image_set/Test\n",
    "!mkdir /kaggle/working/Image_set/Test/test\n",
    "\n",
    "## Middle- 0, Old- 1, Young- 2"
   ]
  },
  {
   "cell_type": "markdown",
   "id": "739fec5a",
   "metadata": {
    "papermill": {
     "duration": 0.019829,
     "end_time": "2023-04-07T17:53:52.465656",
     "exception": false,
     "start_time": "2023-04-07T17:53:52.445827",
     "status": "completed"
    },
    "tags": []
   },
   "source": [
    "### Resizing and Splitting the image dataset into Valid and Train set"
   ]
  },
  {
   "cell_type": "code",
   "execution_count": 15,
   "id": "d1f990d3",
   "metadata": {
    "execution": {
     "iopub.execute_input": "2023-04-07T17:53:52.507274Z",
     "iopub.status.busy": "2023-04-07T17:53:52.506855Z",
     "iopub.status.idle": "2023-04-07T17:53:52.511778Z",
     "shell.execute_reply": "2023-04-07T17:53:52.510630Z"
    },
    "papermill": {
     "duration": 0.029114,
     "end_time": "2023-04-07T17:53:52.514445",
     "exception": false,
     "start_time": "2023-04-07T17:53:52.485331",
     "status": "completed"
    },
    "tags": []
   },
   "outputs": [],
   "source": [
    "# ## for training dataset\n",
    "# for index, row in tqdm(train_csv_train.iterrows(),total=len(train_csv_train)):\n",
    "#     image = cv2.imread('/kaggle/input/age-detection-analytics-vidhya-peter/train_DETg9GD/Train/'+row['ID'])\n",
    "#     image = cv2.resize(image,(224,224))\n",
    "#     img_path = \"/kaggle/working/Train/\"+str(row['Class'])+\"/\"+row['ID']\n",
    "#     save_img(img_path,image)"
   ]
  },
  {
   "cell_type": "code",
   "execution_count": 16,
   "id": "1eca7983",
   "metadata": {
    "execution": {
     "iopub.execute_input": "2023-04-07T17:53:52.555934Z",
     "iopub.status.busy": "2023-04-07T17:53:52.554983Z",
     "iopub.status.idle": "2023-04-07T17:53:52.559665Z",
     "shell.execute_reply": "2023-04-07T17:53:52.558577Z"
    },
    "papermill": {
     "duration": 0.027434,
     "end_time": "2023-04-07T17:53:52.561807",
     "exception": false,
     "start_time": "2023-04-07T17:53:52.534373",
     "status": "completed"
    },
    "tags": []
   },
   "outputs": [],
   "source": [
    "# ## for validation dataset\n",
    "# for index, row in tqdm(train_csv_valid.iterrows(),total=len(train_csv_valid)):\n",
    "#     image = cv2.imread('/kaggle/input/age-detection-analytics-vidhya-peter/train_DETg9GD/Train/'+row['ID'])\n",
    "#     image = cv2.resize(image,(224,224))\n",
    "#     img_path = \"/kaggle/working/Valid/\"+str(row['Class'])+\"/\"+row['ID']\n",
    "#     save_img(img_path,image)"
   ]
  },
  {
   "cell_type": "code",
   "execution_count": 17,
   "id": "a8af272d",
   "metadata": {
    "execution": {
     "iopub.execute_input": "2023-04-07T17:53:52.604173Z",
     "iopub.status.busy": "2023-04-07T17:53:52.603170Z",
     "iopub.status.idle": "2023-04-07T17:53:52.607990Z",
     "shell.execute_reply": "2023-04-07T17:53:52.606922Z"
    },
    "papermill": {
     "duration": 0.027727,
     "end_time": "2023-04-07T17:53:52.610038",
     "exception": false,
     "start_time": "2023-04-07T17:53:52.582311",
     "status": "completed"
    },
    "tags": []
   },
   "outputs": [],
   "source": [
    "# train_csv_valid.head()"
   ]
  },
  {
   "cell_type": "markdown",
   "id": "00c3f190",
   "metadata": {
    "papermill": {
     "duration": 0.019613,
     "end_time": "2023-04-07T17:53:52.649847",
     "exception": false,
     "start_time": "2023-04-07T17:53:52.630234",
     "status": "completed"
    },
    "tags": []
   },
   "source": [
    "### Resizing the test image dataset"
   ]
  },
  {
   "cell_type": "code",
   "execution_count": 18,
   "id": "a28556ce",
   "metadata": {
    "execution": {
     "iopub.execute_input": "2023-04-07T17:53:52.691912Z",
     "iopub.status.busy": "2023-04-07T17:53:52.690871Z",
     "iopub.status.idle": "2023-04-07T17:53:52.695843Z",
     "shell.execute_reply": "2023-04-07T17:53:52.694843Z"
    },
    "papermill": {
     "duration": 0.028228,
     "end_time": "2023-04-07T17:53:52.698111",
     "exception": false,
     "start_time": "2023-04-07T17:53:52.669883",
     "status": "completed"
    },
    "tags": []
   },
   "outputs": [],
   "source": [
    "# test_csv.head()"
   ]
  },
  {
   "cell_type": "code",
   "execution_count": 19,
   "id": "35b79ace",
   "metadata": {
    "execution": {
     "iopub.execute_input": "2023-04-07T17:53:52.740129Z",
     "iopub.status.busy": "2023-04-07T17:53:52.739271Z",
     "iopub.status.idle": "2023-04-07T17:53:52.743776Z",
     "shell.execute_reply": "2023-04-07T17:53:52.742731Z"
    },
    "papermill": {
     "duration": 0.027961,
     "end_time": "2023-04-07T17:53:52.745938",
     "exception": false,
     "start_time": "2023-04-07T17:53:52.717977",
     "status": "completed"
    },
    "tags": []
   },
   "outputs": [],
   "source": [
    "# for index, row in tqdm(test_csv.iterrows(),total=len(test_csv)):\n",
    "#     image = cv2.imread('/kaggle/input/age-detection-analytics-vidhya-peter/test_Bh8pGW3/Test/'+row['ID'])\n",
    "#     image = cv2.resize(image,(224,224))\n",
    "#     img_path = \"/kaggle/working/Test/test/\"+row['ID']\n",
    "#     save_img(img_path,image)"
   ]
  },
  {
   "cell_type": "code",
   "execution_count": 20,
   "id": "5a12a16e",
   "metadata": {
    "execution": {
     "iopub.execute_input": "2023-04-07T17:53:52.787859Z",
     "iopub.status.busy": "2023-04-07T17:53:52.787489Z",
     "iopub.status.idle": "2023-04-07T17:53:52.791737Z",
     "shell.execute_reply": "2023-04-07T17:53:52.790645Z"
    },
    "papermill": {
     "duration": 0.02776,
     "end_time": "2023-04-07T17:53:52.793846",
     "exception": false,
     "start_time": "2023-04-07T17:53:52.766086",
     "status": "completed"
    },
    "tags": []
   },
   "outputs": [],
   "source": [
    "# import os\n",
    "# os.listdir(\"/kaggle/working/Test\")"
   ]
  },
  {
   "cell_type": "code",
   "execution_count": 21,
   "id": "b9621127",
   "metadata": {
    "execution": {
     "iopub.execute_input": "2023-04-07T17:53:52.836270Z",
     "iopub.status.busy": "2023-04-07T17:53:52.835597Z",
     "iopub.status.idle": "2023-04-07T17:53:52.840080Z",
     "shell.execute_reply": "2023-04-07T17:53:52.839068Z"
    },
    "papermill": {
     "duration": 0.028272,
     "end_time": "2023-04-07T17:53:52.842234",
     "exception": false,
     "start_time": "2023-04-07T17:53:52.813962",
     "status": "completed"
    },
    "tags": []
   },
   "outputs": [],
   "source": [
    "# from PIL import Image\n",
    "# image1 = Image.open('/kaggle/input/age-detection-analytics-vidhya-peter/test_Bh8pGW3/Test/10.jpg')\n",
    "# # plt.imshow(image1)\n",
    "# image1.size"
   ]
  },
  {
   "cell_type": "code",
   "execution_count": 22,
   "id": "11f49820",
   "metadata": {
    "execution": {
     "iopub.execute_input": "2023-04-07T17:53:52.884131Z",
     "iopub.status.busy": "2023-04-07T17:53:52.883776Z",
     "iopub.status.idle": "2023-04-07T17:53:52.888075Z",
     "shell.execute_reply": "2023-04-07T17:53:52.887064Z"
    },
    "papermill": {
     "duration": 0.02767,
     "end_time": "2023-04-07T17:53:52.890102",
     "exception": false,
     "start_time": "2023-04-07T17:53:52.862432",
     "status": "completed"
    },
    "tags": []
   },
   "outputs": [],
   "source": [
    "# for index, row in tqdm(test_csv.iterrows(), total = len(test.csv)):\n",
    "#     shutil.copy2('/kaggle/input/age-detection-analytics-vidhya-peter/test_Bh8pGW3/Test/'+row['ID'], '/kaggle/working/Test/test/')"
   ]
  },
  {
   "cell_type": "code",
   "execution_count": 23,
   "id": "0209959f",
   "metadata": {
    "execution": {
     "iopub.execute_input": "2023-04-07T17:53:52.931852Z",
     "iopub.status.busy": "2023-04-07T17:53:52.930932Z",
     "iopub.status.idle": "2023-04-07T17:53:52.935733Z",
     "shell.execute_reply": "2023-04-07T17:53:52.934861Z"
    },
    "papermill": {
     "duration": 0.027841,
     "end_time": "2023-04-07T17:53:52.937863",
     "exception": false,
     "start_time": "2023-04-07T17:53:52.910022",
     "status": "completed"
    },
    "tags": []
   },
   "outputs": [],
   "source": [
    "# test_datagen = ImageDataGenerator(rescale = 1./255)\n",
    "# test_set = test_datagen.flow_from_directory('/kaggle/input/age-detection-analytics-vidhya-peter/test_Bh8pGW3/',\n",
    "#                                   target_size = (224,224),\n",
    "#                                   batch_size = 32,\n",
    "#                                   class_mode = 'categorical',\n",
    "#                                     color_mode='rgb')"
   ]
  },
  {
   "cell_type": "code",
   "execution_count": 24,
   "id": "521221a4",
   "metadata": {
    "execution": {
     "iopub.execute_input": "2023-04-07T17:53:52.980105Z",
     "iopub.status.busy": "2023-04-07T17:53:52.979134Z",
     "iopub.status.idle": "2023-04-07T17:53:52.983866Z",
     "shell.execute_reply": "2023-04-07T17:53:52.982752Z"
    },
    "papermill": {
     "duration": 0.027946,
     "end_time": "2023-04-07T17:53:52.985961",
     "exception": false,
     "start_time": "2023-04-07T17:53:52.958015",
     "status": "completed"
    },
    "tags": []
   },
   "outputs": [],
   "source": [
    "# test_set[0][0][0].shape[0]"
   ]
  },
  {
   "cell_type": "code",
   "execution_count": 25,
   "id": "063ae380",
   "metadata": {
    "execution": {
     "iopub.execute_input": "2023-04-07T17:53:53.028627Z",
     "iopub.status.busy": "2023-04-07T17:53:53.027948Z",
     "iopub.status.idle": "2023-04-07T17:53:53.032486Z",
     "shell.execute_reply": "2023-04-07T17:53:53.031475Z"
    },
    "papermill": {
     "duration": 0.027936,
     "end_time": "2023-04-07T17:53:53.034503",
     "exception": false,
     "start_time": "2023-04-07T17:53:53.006567",
     "status": "completed"
    },
    "tags": []
   },
   "outputs": [],
   "source": [
    "# test_csv.shape[0]"
   ]
  },
  {
   "cell_type": "code",
   "execution_count": 26,
   "id": "10180ba7",
   "metadata": {
    "execution": {
     "iopub.execute_input": "2023-04-07T17:53:53.078141Z",
     "iopub.status.busy": "2023-04-07T17:53:53.077209Z",
     "iopub.status.idle": "2023-04-07T17:53:53.081849Z",
     "shell.execute_reply": "2023-04-07T17:53:53.080760Z"
    },
    "papermill": {
     "duration": 0.029339,
     "end_time": "2023-04-07T17:53:53.084000",
     "exception": false,
     "start_time": "2023-04-07T17:53:53.054661",
     "status": "completed"
    },
    "tags": []
   },
   "outputs": [],
   "source": [
    "# test_set[1][0][32].shape"
   ]
  },
  {
   "cell_type": "code",
   "execution_count": 27,
   "id": "5a06605b",
   "metadata": {
    "execution": {
     "iopub.execute_input": "2023-04-07T17:53:53.126048Z",
     "iopub.status.busy": "2023-04-07T17:53:53.125690Z",
     "iopub.status.idle": "2023-04-07T17:53:53.130197Z",
     "shell.execute_reply": "2023-04-07T17:53:53.129114Z"
    },
    "papermill": {
     "duration": 0.028179,
     "end_time": "2023-04-07T17:53:53.132294",
     "exception": false,
     "start_time": "2023-04-07T17:53:53.104115",
     "status": "completed"
    },
    "tags": []
   },
   "outputs": [],
   "source": [
    "# j = 0\n",
    "# for i in range(test_csv.shape[0]):\n",
    "#     j += 1\n",
    "#     if(test_set[j][0][i].shape[0] != 64):\n",
    "#         print(test_set[0][0][i].shape[0])\n",
    "# # print('Program ended!')\n",
    "# # # test_set[0][0][0].shape"
   ]
  },
  {
   "cell_type": "code",
   "execution_count": 28,
   "id": "68cc47ed",
   "metadata": {
    "execution": {
     "iopub.execute_input": "2023-04-07T17:53:53.177654Z",
     "iopub.status.busy": "2023-04-07T17:53:53.176790Z",
     "iopub.status.idle": "2023-04-07T17:53:53.186931Z",
     "shell.execute_reply": "2023-04-07T17:53:53.186056Z"
    },
    "papermill": {
     "duration": 0.036392,
     "end_time": "2023-04-07T17:53:53.189011",
     "exception": false,
     "start_time": "2023-04-07T17:53:53.152619",
     "status": "completed"
    },
    "tags": []
   },
   "outputs": [],
   "source": [
    "# batch_size=32\n",
    "# # To handle image loading problem\n",
    "# from PIL import Image, ImageFile\n",
    "# ImageFile.LOAD_TRUNCATED_IMAGES = True\n",
    "# X = train_csv['ID']\n",
    "# y = train_csv['Class']\n",
    "# skf = StratifiedKFold(n_splits = 5, shuffle = True, random_state = 42)\n",
    "# i = 1\n",
    "# for train_idx, valid_idx in list(skf.split(X,y)):\n",
    "#     if (i!=1):\n",
    "#         !mkdir /kaggle/working/Image_set/\n",
    "\n",
    "#         !mkdir /kaggle/working/Image_set/Train\n",
    "#         !mkdir /kaggle/working/Image_set/Train/0\n",
    "#         !mkdir /kaggle/working/Image_set/Train/1\n",
    "#         !mkdir /kaggle/working/Image_set/Train/2\n",
    "\n",
    "#         !mkdir /kaggle/working/Image_set/Valid\n",
    "#         !mkdir /kaggle/working/Image_set/Valid/0\n",
    "#         !mkdir /kaggle/working/Image_set/Valid/1\n",
    "#         !mkdir /kaggle/working/Image_set/Valid/2\n",
    "\n",
    "#     train_csv_train = train_csv.iloc[train_idx]\n",
    "#     train_csv_valid = train_csv.iloc[valid_idx]\n",
    "#     ## for training dataset\n",
    "#     for index, row in tqdm(train_csv_train.iterrows(),total=len(train_csv_train)):\n",
    "#         image_train = cv2.imread('/kaggle/input/age-detection-analytics-vidhya-peter/train_DETg9GD/Train/'+row['ID'])\n",
    "#         image_train = cv2.resize(image_train,(224,224))\n",
    "#         img_path_train = \"/kaggle/working/Image_set/Train/\"+str(row['Class'])+\"/\"+row['ID']\n",
    "#         save_img(img_path_train,image_train)\n",
    "#     ## for validation dataset\n",
    "#     for index, row in tqdm(train_csv_valid.iterrows(),total=len(train_csv_valid)):\n",
    "#         image_valid = cv2.imread('/kaggle/input/age-detection-analytics-vidhya-peter/train_DETg9GD/Train/'+row['ID'])\n",
    "#         image_valid = cv2.resize(image_valid,(224,224))\n",
    "#         img_path_valid = '/kaggle/working/Image_set/Valid/'+str(row['Class'])+\"/\"+row['ID']\n",
    "#         save_img(img_path_valid,image_valid)\n",
    "        \n",
    "# #      ------------------------TRAINING AND VALIDATION SET------------------------\n",
    "#     train_datagen = ImageDataGenerator(rescale = 1./255,\n",
    "#                                    zoom_range = 0.2,\n",
    "#                                    horizontal_flip = True, \n",
    "#                                   rotation_range = 10, fill_mode = 'nearest',\n",
    "#                                   width_shift_range = 0.2, height_shift_range=0.2)\n",
    "#     val_datagen = ImageDataGenerator(rescale = 1./255)\n",
    "#     training_set = train_datagen.flow_from_directory('/kaggle/working/Image_set/Train/',\n",
    "#                                    target_size = (224,224),\n",
    "#                                    batch_size = batch_size,\n",
    "#                                    class_mode = 'categorical',\n",
    "#                                     color_mode='rgb')\n",
    "#     validation_set = val_datagen.flow_from_directory('/kaggle/working/Image_set/Valid/',\n",
    "#                                   target_size = (224,224),\n",
    "#                                   batch_size = batch_size,\n",
    "#                                   class_mode = 'categorical',\n",
    "#                                     color_mode='rgb')\n",
    "    \n",
    "# #     ------------------------TRAINING THE MODELS------------------------\n",
    "#     FC_LAYERS = [1024, 512, 256]\n",
    "#     dropout = 0.5\n",
    "#     def build_model(base_model, dropout, fc_layers, num_classes):\n",
    "#         for layer in base_model.layers:\n",
    "#             layer.trainable = True\n",
    "\n",
    "#         x = base_model.output\n",
    "#         x = Flatten()(x)\n",
    "#         for fc in fc_layers:\n",
    "#             print(fc)\n",
    "#             x = Dense(fc, activation='relu')(x)\n",
    "#             x = Dropout(dropout)(x)\n",
    "#         preditions = Dense(num_classes, activation='softmax')(x)\n",
    "#         finetune_model = Model(inputs = base_model.input, outputs = preditions)\n",
    "#         return finetune_model\n",
    "\n",
    "#     base_model_1 = ResNet50(weights = 'imagenet',\n",
    "#                            include_top = False,\n",
    "#                            input_shape = (224,224,3))\n",
    "\n",
    "#     base_model_2 = InceptionV3(weights = 'imagenet',\n",
    "#                            include_top = False,\n",
    "#                            input_shape = (224,224, 3))\n",
    "\n",
    "#     base_model_3 = DenseNet121(weights = 'imagenet',\n",
    "#                            include_top = False,\n",
    "#                            input_shape = (224,224, 3))\n",
    "\n",
    "#     base_model_4 = EfficientNetB7(include_top= False,\n",
    "#                                   weights=\"imagenet\",\n",
    "#                                   input_shape=(224,224,3))\n",
    "    \n",
    "# #     -----------------------RSNT MODEL-----------------------\n",
    "#     # Training model\n",
    "#     Rsnt_model = build_model(base_model_1,\n",
    "#                             dropout = dropout,\n",
    "#                             fc_layers = FC_LAYERS,\n",
    "#                             num_classes = 3)\n",
    "\n",
    "#     # compiling the model\n",
    "#     opt = tf.keras.optimizers.legacy.Adam(learning_rate = 0.0001,decay=1e-4)\n",
    "#     Rsnt_model.compile(loss = 'categorical_crossentropy', optimizer= opt, metrics=['accuracy'])\n",
    "#     # fitting the model\n",
    "#     history_rsnt = Rsnt_model.fit_generator(training_set,\n",
    "#                              steps_per_epoch = len(training_set),\n",
    "#                              epochs = 10,\n",
    "#                              validation_data = validation_set,\n",
    "#                              validation_steps = len(validation_set),\n",
    "#                              verbose = 1)\n",
    "\n",
    "#     # Saving model\n",
    "#     Rsnt_model.save('/kaggle/working/Rsnt_'+str(i))\n",
    "    \n",
    "# #     -----------------------INCEPTION MODEL-----------------------\n",
    "#     # Training model\n",
    "#     Inception_model = build_model(base_model_2,\n",
    "#                             dropout = dropout,\n",
    "#                             fc_layers = FC_LAYERS,\n",
    "#                             num_classes = 3)\n",
    "\n",
    "#     # compiling the model\n",
    "#     opt = tf.keras.optimizers.legacy.Adam(learning_rate = 0.0001,decay=1e-4)\n",
    "#     Inception_model.compile(loss = 'categorical_crossentropy', optimizer= opt, metrics=['accuracy'])\n",
    "#     # fitting the model\n",
    "#     history_inception = Inception_model.fit_generator(training_set,\n",
    "#                              steps_per_epoch = len(training_set),\n",
    "#                              epochs = 10,\n",
    "#                              validation_data = validation_set,\n",
    "#                              validation_steps = len(validation_set),\n",
    "#                              verbose = 1)\n",
    "\n",
    "#     # Saving model\n",
    "#     Inception_model.save('/kaggle/working/Inception_'+str(i))\n",
    "    \n",
    "# # -----------------------DENSNET MODEL-----------------------\n",
    "#     # Training model\n",
    "#     Densenet_model = build_model(base_model_3,\n",
    "#                             dropout = dropout,\n",
    "#                             fc_layers = FC_LAYERS,\n",
    "#                             num_classes = 3)\n",
    "\n",
    "#     # compiling the model\n",
    "#     opt = tf.keras.optimizers.legacy.RMSprop(learning_rate = 0.0001,decay=1e-4)\n",
    "#     Densenet_model.compile(loss = 'categorical_crossentropy', optimizer= opt, metrics=['accuracy'])\n",
    "#     # fitting the model\n",
    "#     history_densenet = Densenet_model.fit_generator(training_set,\n",
    "#                              steps_per_epoch = len(training_set),\n",
    "#                              epochs = 10,\n",
    "#                              validation_data = validation_set,\n",
    "#                              validation_steps = len(validation_set),\n",
    "#                              verbose = 1)\n",
    "\n",
    "#     # Saving model\n",
    "#     Densenet_model.save('/kaggle/working/Densenet'+str(i))\n",
    "    \n",
    "# # -----------------------EFFICIENT MODEL-----------------------\n",
    "#     # Training model\n",
    "# #     Efficientnet_model = build_model(base_model_4,\n",
    "# #                             dropout = dropout,\n",
    "# #                             fc_layers = FC_LAYERS,\n",
    "# #                             num_classes = 3)\n",
    "\n",
    "# #     # compiling the model\n",
    "# #     opt = tf.keras.optimizers.legacy.RMSprop(learning_rate = 0.0001,decay=1e-4)\n",
    "# #     Efficientnet_model.compile(loss = 'categorical_crossentropy', optimizer= opt, metrics=['accuracy'])\n",
    "# #     # fitting the model\n",
    "# #     history_efficientnet = Efficientnet_model.fit_generator(training_set,\n",
    "# #                              steps_per_epoch = len(training_set),\n",
    "# #                              epochs = 10,\n",
    "# #                              validation_data = validation_set,\n",
    "# #                              validation_steps = len(validation_set),\n",
    "# #                              verbose = 1)\n",
    "\n",
    "# #     # Saving model\n",
    "# #     Efficientnet_model.save('/kaggle/working/Efficientnet_'+str(i))\n",
    "\n",
    "#     shutil.rmtree(\"/kaggle/working/Image_set/\")   ## To delete all directories present in output\n",
    "#     i+=1"
   ]
  },
  {
   "cell_type": "markdown",
   "id": "c8bc17e4",
   "metadata": {
    "papermill": {
     "duration": 0.020041,
     "end_time": "2023-04-07T17:53:53.229839",
     "exception": false,
     "start_time": "2023-04-07T17:53:53.209798",
     "status": "completed"
    },
    "tags": []
   },
   "source": [
    "### Visualizing the distribution of different classes in Train, validation and test set"
   ]
  },
  {
   "cell_type": "code",
   "execution_count": 29,
   "id": "24b59e16",
   "metadata": {
    "execution": {
     "iopub.execute_input": "2023-04-07T17:53:53.272867Z",
     "iopub.status.busy": "2023-04-07T17:53:53.271797Z",
     "iopub.status.idle": "2023-04-07T17:53:53.276754Z",
     "shell.execute_reply": "2023-04-07T17:53:53.275842Z"
    },
    "papermill": {
     "duration": 0.028831,
     "end_time": "2023-04-07T17:53:53.278832",
     "exception": false,
     "start_time": "2023-04-07T17:53:53.250001",
     "status": "completed"
    },
    "tags": []
   },
   "outputs": [],
   "source": [
    "# train_csv_valid['Class'].value_counts(dropna = False).plot(kind = 'bar',grid = True)\n",
    "# plt.title(\"Distribtuion of class counts in validation set(after spliting)\")\n",
    "# plt.xticks(rotation = 0)"
   ]
  },
  {
   "cell_type": "code",
   "execution_count": 30,
   "id": "f3411894",
   "metadata": {
    "execution": {
     "iopub.execute_input": "2023-04-07T17:53:53.322701Z",
     "iopub.status.busy": "2023-04-07T17:53:53.321661Z",
     "iopub.status.idle": "2023-04-07T17:53:53.326615Z",
     "shell.execute_reply": "2023-04-07T17:53:53.325707Z"
    },
    "papermill": {
     "duration": 0.029254,
     "end_time": "2023-04-07T17:53:53.328778",
     "exception": false,
     "start_time": "2023-04-07T17:53:53.299524",
     "status": "completed"
    },
    "tags": []
   },
   "outputs": [],
   "source": [
    "# train_csv_train['Class'].value_counts(dropna = False).plot(kind = 'bar',grid = True)\n",
    "# plt.title(\"Distribtuion of class counts in training set(after spliting)\")\n",
    "# plt.xticks(rotation = 0)"
   ]
  },
  {
   "cell_type": "code",
   "execution_count": 31,
   "id": "551f67f5",
   "metadata": {
    "execution": {
     "iopub.execute_input": "2023-04-07T17:53:53.371917Z",
     "iopub.status.busy": "2023-04-07T17:53:53.371549Z",
     "iopub.status.idle": "2023-04-07T17:53:53.376939Z",
     "shell.execute_reply": "2023-04-07T17:53:53.375922Z"
    },
    "papermill": {
     "duration": 0.029696,
     "end_time": "2023-04-07T17:53:53.378983",
     "exception": false,
     "start_time": "2023-04-07T17:53:53.349287",
     "status": "completed"
    },
    "tags": []
   },
   "outputs": [],
   "source": [
    "# batch_size=32\n",
    "# # To handle image loading problem\n",
    "# from PIL import Image, ImageFile\n",
    "# ImageFile.LOAD_TRUNCATED_IMAGES = True\n",
    "# # train_datagen = ImageDataGenerator(rescale = 1./255,\n",
    "# #                                    shear_range = 0.2,\n",
    "# #                                    zoom_range = 0.2,\n",
    "# #                                    horizontal_flip = True, \n",
    "# #                                   rotation_range = 30, fill_mode = 'nearest',\n",
    "# #                                   width_shift_range = 0.2, height_shift_range=0.2,\n",
    "# #                                   brightness_range = [0.4, 1.5]\n",
    "# #                                   )\n",
    "# train_datagen = ImageDataGenerator(rescale = 1./255,\n",
    "#                                    zoom_range = 0.2,\n",
    "#                                    horizontal_flip = True, \n",
    "#                                   rotation_range = 10, fill_mode = 'nearest',\n",
    "#                                   width_shift_range = 0.2, height_shift_range=0.2)\n",
    "# val_datagen = ImageDataGenerator(rescale = 1./255)\n",
    "# training_set = train_datagen.flow_from_directory('/kaggle/working/Train/',\n",
    "#                                    target_size = (224,224),\n",
    "#                                    batch_size = batch_size,\n",
    "#                                    class_mode = 'categorical',\n",
    "#                                     color_mode='rgb')\n",
    "# validation_set = val_datagen.flow_from_directory('/kaggle/working/Valid/',\n",
    "#                                   target_size = (224, 224),\n",
    "#                                   batch_size = batch_size,\n",
    "#                                   class_mode = 'categorical',\n",
    "#                                     color_mode='rgb')\n",
    "# print(training_set.class_indices)"
   ]
  },
  {
   "cell_type": "code",
   "execution_count": 32,
   "id": "03e79d93",
   "metadata": {
    "execution": {
     "iopub.execute_input": "2023-04-07T17:53:53.421633Z",
     "iopub.status.busy": "2023-04-07T17:53:53.420771Z",
     "iopub.status.idle": "2023-04-07T17:53:53.425440Z",
     "shell.execute_reply": "2023-04-07T17:53:53.424518Z"
    },
    "papermill": {
     "duration": 0.0281,
     "end_time": "2023-04-07T17:53:53.427529",
     "exception": false,
     "start_time": "2023-04-07T17:53:53.399429",
     "status": "completed"
    },
    "tags": []
   },
   "outputs": [],
   "source": [
    "# (_,_)\n",
    "# training_set[0][0][1]"
   ]
  },
  {
   "cell_type": "code",
   "execution_count": 33,
   "id": "650aca63",
   "metadata": {
    "execution": {
     "iopub.execute_input": "2023-04-07T17:53:53.470609Z",
     "iopub.status.busy": "2023-04-07T17:53:53.470009Z",
     "iopub.status.idle": "2023-04-07T17:53:53.474685Z",
     "shell.execute_reply": "2023-04-07T17:53:53.473605Z"
    },
    "papermill": {
     "duration": 0.028496,
     "end_time": "2023-04-07T17:53:53.476784",
     "exception": false,
     "start_time": "2023-04-07T17:53:53.448288",
     "status": "completed"
    },
    "tags": []
   },
   "outputs": [],
   "source": [
    "# train_datagen"
   ]
  },
  {
   "cell_type": "markdown",
   "id": "5908d103",
   "metadata": {
    "papermill": {
     "duration": 0.020389,
     "end_time": "2023-04-07T17:53:53.518234",
     "exception": false,
     "start_time": "2023-04-07T17:53:53.497845",
     "status": "completed"
    },
    "tags": []
   },
   "source": [
    "# **Basic CNN Model**"
   ]
  },
  {
   "cell_type": "code",
   "execution_count": 34,
   "id": "7e57153a",
   "metadata": {
    "execution": {
     "iopub.execute_input": "2023-04-07T17:53:53.561694Z",
     "iopub.status.busy": "2023-04-07T17:53:53.560528Z",
     "iopub.status.idle": "2023-04-07T17:53:53.566267Z",
     "shell.execute_reply": "2023-04-07T17:53:53.565321Z"
    },
    "papermill": {
     "duration": 0.029498,
     "end_time": "2023-04-07T17:53:53.568445",
     "exception": false,
     "start_time": "2023-04-07T17:53:53.538947",
     "status": "completed"
    },
    "tags": []
   },
   "outputs": [],
   "source": [
    "# model = Sequential()\n",
    "# model.add(Conv2D(64, (3, 3), input_shape = (224, 224, 3)))\n",
    "# model.add(Conv2D(32, (3, 3), input_shape = (224, 224, 3)))\n",
    "# model.add(LeakyReLU(alpha=0.3))\n",
    "# model.add(BatchNormalization())\n",
    "# model.add(MaxPooling2D(pool_size = (2, 2)))\n",
    "# # Dropout\n",
    "# model.add(Dropout(0.4))\n",
    "# #Max Pooling\n",
    "# model.add(Conv2D(32, (3, 3)))\n",
    "\n",
    "# model.add(MaxPooling2D(pool_size = (2, 2)))\n",
    "# model.add(LeakyReLU(alpha=0.3))\n",
    "# model.add(BatchNormalization())\n",
    "# # Dropout\n",
    "# model.add(Dropout(0.3))\n",
    "# #Flatten\n",
    "# model.add(Flatten())\n",
    "# model.add(Dense(128))\n",
    "# model.add(LeakyReLU(alpha=0.3))\n",
    "# model.add(Dense(64))\n",
    "# model.add(Dropout(0.5))\n",
    "# model.add(Dense(3, activation = 'softmax'))"
   ]
  },
  {
   "cell_type": "code",
   "execution_count": 35,
   "id": "c5da9c0f",
   "metadata": {
    "execution": {
     "iopub.execute_input": "2023-04-07T17:53:53.613043Z",
     "iopub.status.busy": "2023-04-07T17:53:53.612071Z",
     "iopub.status.idle": "2023-04-07T17:53:53.617236Z",
     "shell.execute_reply": "2023-04-07T17:53:53.616122Z"
    },
    "papermill": {
     "duration": 0.029179,
     "end_time": "2023-04-07T17:53:53.619359",
     "exception": false,
     "start_time": "2023-04-07T17:53:53.590180",
     "status": "completed"
    },
    "tags": []
   },
   "outputs": [],
   "source": [
    "# # compiling the model\n",
    "# model.compile(optimizer = 'adam', loss = 'sparse_categorical_crossentropy', metrics = ['accuracy'])\n",
    "# #fitting model\n",
    "# history = model.fit_generator(training_set,\n",
    "#                          steps_per_epoch = len(training_set),\n",
    "#                          epochs = 20,\n",
    "#                          validation_data = validation_set,\n",
    "#                          validation_steps = len(validation_set),\n",
    "#                          verbose=1)"
   ]
  },
  {
   "cell_type": "markdown",
   "id": "dae12c81",
   "metadata": {
    "papermill": {
     "duration": 0.020306,
     "end_time": "2023-04-07T17:53:53.660303",
     "exception": false,
     "start_time": "2023-04-07T17:53:53.639997",
     "status": "completed"
    },
    "tags": []
   },
   "source": [
    "#  **ResNet 50**"
   ]
  },
  {
   "cell_type": "code",
   "execution_count": 36,
   "id": "12e3210e",
   "metadata": {
    "execution": {
     "iopub.execute_input": "2023-04-07T17:53:53.703084Z",
     "iopub.status.busy": "2023-04-07T17:53:53.702723Z",
     "iopub.status.idle": "2023-04-07T17:53:53.707223Z",
     "shell.execute_reply": "2023-04-07T17:53:53.706197Z"
    },
    "papermill": {
     "duration": 0.028609,
     "end_time": "2023-04-07T17:53:53.709345",
     "exception": false,
     "start_time": "2023-04-07T17:53:53.680736",
     "status": "completed"
    },
    "tags": []
   },
   "outputs": [],
   "source": [
    "# # loading resnet model\n",
    "# Rsnt_model = ResNet50(weights='imagenet', include_top=False, input_shape=(224, 224, 3))\n",
    "# Rsnt_model.trainable = True #--> To freeze all layers excluding top layer"
   ]
  },
  {
   "cell_type": "code",
   "execution_count": 37,
   "id": "cf70d9fe",
   "metadata": {
    "execution": {
     "iopub.execute_input": "2023-04-07T17:53:53.753977Z",
     "iopub.status.busy": "2023-04-07T17:53:53.752974Z",
     "iopub.status.idle": "2023-04-07T17:53:53.758858Z",
     "shell.execute_reply": "2023-04-07T17:53:53.757686Z"
    },
    "papermill": {
     "duration": 0.030507,
     "end_time": "2023-04-07T17:53:53.760926",
     "exception": false,
     "start_time": "2023-04-07T17:53:53.730419",
     "status": "completed"
    },
    "tags": []
   },
   "outputs": [],
   "source": [
    "# ## Case 1\n",
    "# # x = Flatten()(Rsnt_model.output)\n",
    "# # x = Dense(256, activation='relu')(x)\n",
    "# # predictions = Dense(3, activation = 'softmax')(x)\n",
    "# # tl_model = Model(inputs = Rsnt_model.input, outputs = predictions)\n",
    "\n",
    "# ## Case 2\n",
    "# # av1 = GlobalAveragePooling2D()(Rsnt_model.output)\n",
    "# # fc1 = Dense(256, activation='relu')(av1)\n",
    "# # drp1=Dropout(0.35)(fc1)\n",
    "# # fc2 = Dense(128, activation='relu')(drp1)\n",
    "# # drp2=Dropout(0.4)(fc2)\n",
    "# # bat_norm=BatchNormalization()(drp2)\n",
    "# # fc3 = Dense(68, activation='relu')(bat_norm)\n",
    "# # drp3=Dropout(0.25)(fc3)\n",
    "# # fc4 = Dense(34, activation='relu')(drp3)\n",
    "# # out = Dense(3, activation='softmax')(fc4)\n",
    "# # tl_model = Model(inputs=Rsnt_model.input,outputs=out)\n",
    "# # tl_model.summary()\n",
    "\n",
    "# ## Case 3\n",
    "# Rsnt_model = Sequential()\n",
    "\n",
    "# # 1st layer as the lumpsum weights from resnet50_weights_tf_dim_ordering_tf_kernels_notop.h5\n",
    "# # NOTE that this layer will be set below as NOT TRAINABLE, i.e., use it as is\n",
    "# Rsnt_model.add(ResNet50(include_top = False, pooling = 'avg', weights = 'imagenet',input_shape=(224,224,3)))\n",
    "# Rsnt_model.add(Dense(256, activation = 'relu'))\n",
    "# Rsnt_model.add(Dropout(0.4))\n",
    "# Rsnt_model.add(Dense(128, activation = 'relu'))\n",
    "# Rsnt_model.add(Dropout(0.4))\n",
    "# Rsnt_model.add(Dense(30, activation = 'relu'))\n",
    "# Rsnt_model.add(Dropout(0.4))\n",
    "# # 2nd layer as Dense for 2-class classification, i.e., dog or cat using SoftMax activation\n",
    "# Rsnt_model.add(Dense(3, activation = 'softmax'))\n",
    "# # Say not to train first layer (ResNet) model as it is already trained\n",
    "# Rsnt_model.layers[0].trainable = False"
   ]
  },
  {
   "cell_type": "code",
   "execution_count": null,
   "id": "194a5734",
   "metadata": {
    "papermill": {
     "duration": 0.020657,
     "end_time": "2023-04-07T17:53:53.803603",
     "exception": false,
     "start_time": "2023-04-07T17:53:53.782946",
     "status": "completed"
    },
    "tags": []
   },
   "outputs": [],
   "source": []
  },
  {
   "cell_type": "code",
   "execution_count": 38,
   "id": "4a98f46c",
   "metadata": {
    "execution": {
     "iopub.execute_input": "2023-04-07T17:53:53.847330Z",
     "iopub.status.busy": "2023-04-07T17:53:53.846338Z",
     "iopub.status.idle": "2023-04-07T17:54:14.569062Z",
     "shell.execute_reply": "2023-04-07T17:54:14.568008Z"
    },
    "papermill": {
     "duration": 20.747565,
     "end_time": "2023-04-07T17:54:14.571762",
     "exception": false,
     "start_time": "2023-04-07T17:53:53.824197",
     "status": "completed"
    },
    "tags": []
   },
   "outputs": [
    {
     "name": "stdout",
     "output_type": "stream",
     "text": [
      "Downloading data from https://storage.googleapis.com/tensorflow/keras-applications/resnet/resnet50_weights_tf_dim_ordering_tf_kernels_notop.h5\n",
      "94765736/94765736 [==============================] - 1s 0us/step\n",
      "Downloading data from https://storage.googleapis.com/tensorflow/keras-applications/inception_v3/inception_v3_weights_tf_dim_ordering_tf_kernels_notop.h5\n",
      "87910968/87910968 [==============================] - 0s 0us/step\n",
      "Downloading data from https://storage.googleapis.com/tensorflow/keras-applications/densenet/densenet121_weights_tf_dim_ordering_tf_kernels_notop.h5\n",
      "29084464/29084464 [==============================] - 0s 0us/step\n",
      "Downloading data from https://storage.googleapis.com/keras-applications/efficientnetb7_notop.h5\n",
      "258076736/258076736 [==============================] - 2s 0us/step\n"
     ]
    }
   ],
   "source": [
    "FC_LAYERS = [1024, 512, 256]\n",
    "dropout = 0.5\n",
    "def build_model(base_model, dropout, fc_layers, num_classes):\n",
    "    for layer in base_model.layers:\n",
    "        layer.trainable = False\n",
    "\n",
    "    x = base_model.output\n",
    "    x = Flatten()(x)\n",
    "    for fc in fc_layers:\n",
    "        print(fc)\n",
    "        x = Dense(fc, activation='relu')(x)\n",
    "        x = Dropout(dropout)(x)\n",
    "    preditions = Dense(num_classes, activation='softmax')(x)\n",
    "    finetune_model = Model(inputs = base_model.input, outputs = preditions)\n",
    "    return finetune_model\n",
    "\n",
    "base_model_1 = ResNet50(weights = 'imagenet',\n",
    "                       include_top = False,\n",
    "                       input_shape = (224, 224,3))\n",
    "\n",
    "base_model_2 = InceptionV3(weights = 'imagenet',\n",
    "                       include_top = False,\n",
    "                       input_shape = (224,224, 3))\n",
    "\n",
    "base_model_3 = DenseNet121(weights = 'imagenet',\n",
    "                       include_top = False,\n",
    "                       input_shape = (224,224, 3))\n",
    "\n",
    "base_model_4 = EfficientNetB7(include_top= False,\n",
    "                              weights=\"imagenet\",\n",
    "                              input_shape=(224,224,3))"
   ]
  },
  {
   "cell_type": "markdown",
   "id": "dcf9793c",
   "metadata": {
    "papermill": {
     "duration": 0.024607,
     "end_time": "2023-04-07T17:54:14.620948",
     "exception": false,
     "start_time": "2023-04-07T17:54:14.596341",
     "status": "completed"
    },
    "tags": []
   },
   "source": [
    "### ResNet50 training and saving"
   ]
  },
  {
   "cell_type": "code",
   "execution_count": 39,
   "id": "2769e0cc",
   "metadata": {
    "execution": {
     "iopub.execute_input": "2023-04-07T17:54:14.670697Z",
     "iopub.status.busy": "2023-04-07T17:54:14.669647Z",
     "iopub.status.idle": "2023-04-07T17:54:14.760971Z",
     "shell.execute_reply": "2023-04-07T17:54:14.759502Z"
    },
    "papermill": {
     "duration": 0.118732,
     "end_time": "2023-04-07T17:54:14.763365",
     "exception": false,
     "start_time": "2023-04-07T17:54:14.644633",
     "status": "completed"
    },
    "tags": []
   },
   "outputs": [
    {
     "name": "stdout",
     "output_type": "stream",
     "text": [
      "1024\n",
      "512\n",
      "256\n"
     ]
    }
   ],
   "source": [
    "# Training model\n",
    "Rsnt_model = build_model(base_model_1,\n",
    "                        dropout = dropout,\n",
    "                        fc_layers = FC_LAYERS,\n",
    "                        num_classes = 3)\n",
    "\n",
    "# compiling the model\n",
    "opt = tf.keras.optimizers.legacy.Adam(learning_rate = 0.0001,decay=1e-4)\n",
    "Rsnt_model.compile(loss = 'categorical_crossentropy', optimizer= opt, metrics=['accuracy'])\n",
    "# fitting the model\n",
    "# history_rsnt = Rsnt_model.fit_generator(training_set,\n",
    "#                          steps_per_epoch = len(training_set),\n",
    "#                          epochs = 10,\n",
    "#                          validation_data = validation_set,\n",
    "#                          validation_steps = len(validation_set),\n",
    "#                          verbose = 1)\n",
    "\n",
    "# Saving model\n",
    "# Rsnt_model.save('/kaggle/working/Rsnt')"
   ]
  },
  {
   "cell_type": "markdown",
   "id": "3baf0a86",
   "metadata": {
    "papermill": {
     "duration": 0.023328,
     "end_time": "2023-04-07T17:54:14.810934",
     "exception": false,
     "start_time": "2023-04-07T17:54:14.787606",
     "status": "completed"
    },
    "tags": []
   },
   "source": [
    "### InceptionV3 training and saving"
   ]
  },
  {
   "cell_type": "code",
   "execution_count": 40,
   "id": "f1103390",
   "metadata": {
    "execution": {
     "iopub.execute_input": "2023-04-07T17:54:14.860264Z",
     "iopub.status.busy": "2023-04-07T17:54:14.859861Z",
     "iopub.status.idle": "2023-04-07T17:54:14.949368Z",
     "shell.execute_reply": "2023-04-07T17:54:14.948138Z"
    },
    "papermill": {
     "duration": 0.117351,
     "end_time": "2023-04-07T17:54:14.951827",
     "exception": false,
     "start_time": "2023-04-07T17:54:14.834476",
     "status": "completed"
    },
    "tags": []
   },
   "outputs": [
    {
     "name": "stdout",
     "output_type": "stream",
     "text": [
      "1024\n",
      "512\n",
      "256\n"
     ]
    }
   ],
   "source": [
    "# Training model\n",
    "Inception_model = build_model(base_model_2,\n",
    "                        dropout = dropout,\n",
    "                        fc_layers = FC_LAYERS,\n",
    "                        num_classes = 3)\n",
    "\n",
    "# compiling the model\n",
    "opt = tf.keras.optimizers.legacy.Adam(learning_rate = 0.0001,decay=1e-4)\n",
    "Inception_model.compile(loss = 'categorical_crossentropy', optimizer= opt, metrics=['accuracy'])\n",
    "# # fitting the model\n",
    "# history_inception = Inception_model.fit_generator(training_set,\n",
    "#                          steps_per_epoch = len(training_set),\n",
    "#                          epochs = 3,\n",
    "#                          validation_data = validation_set,\n",
    "#                          validation_steps = len(validation_set),\n",
    "#                          verbose = 1)\n",
    "\n",
    "# # Saving model\n",
    "# Inception_model.save('/kaggle/working/Inception')"
   ]
  },
  {
   "cell_type": "markdown",
   "id": "f3dc3c95",
   "metadata": {
    "papermill": {
     "duration": 0.023514,
     "end_time": "2023-04-07T17:54:14.999443",
     "exception": false,
     "start_time": "2023-04-07T17:54:14.975929",
     "status": "completed"
    },
    "tags": []
   },
   "source": [
    "### DenseNet121 training and saving"
   ]
  },
  {
   "cell_type": "code",
   "execution_count": 41,
   "id": "209c993a",
   "metadata": {
    "execution": {
     "iopub.execute_input": "2023-04-07T17:54:15.049855Z",
     "iopub.status.busy": "2023-04-07T17:54:15.049467Z",
     "iopub.status.idle": "2023-04-07T17:54:15.153453Z",
     "shell.execute_reply": "2023-04-07T17:54:15.152188Z"
    },
    "papermill": {
     "duration": 0.131795,
     "end_time": "2023-04-07T17:54:15.155715",
     "exception": false,
     "start_time": "2023-04-07T17:54:15.023920",
     "status": "completed"
    },
    "tags": []
   },
   "outputs": [
    {
     "name": "stdout",
     "output_type": "stream",
     "text": [
      "1024\n",
      "512\n",
      "256\n"
     ]
    }
   ],
   "source": [
    "# Training model\n",
    "Densenet_model = build_model(base_model_3,\n",
    "                        dropout = dropout,\n",
    "                        fc_layers = FC_LAYERS,\n",
    "                        num_classes = 3)\n",
    "\n",
    "# compiling the model\n",
    "opt = tf.keras.optimizers.legacy.RMSprop(learning_rate = 0.0001,decay=1e-4)\n",
    "Densenet_model.compile(loss = 'categorical_crossentropy', optimizer= opt, metrics=['accuracy'])\n",
    "# fitting the model\n",
    "# history_densenet = Densenet_model.fit_generator(training_set,\n",
    "#                          steps_per_epoch = len(training_set),\n",
    "#                          epochs = 10,\n",
    "#                          validation_data = validation_set,\n",
    "#                          validation_steps = len(validation_set),\n",
    "#                          verbose = 1)\n",
    "\n",
    "# # Saving model\n",
    "# Densenet_model.save('/kaggle/working/Densenet')"
   ]
  },
  {
   "cell_type": "markdown",
   "id": "9c2d9aba",
   "metadata": {
    "papermill": {
     "duration": 0.024054,
     "end_time": "2023-04-07T17:54:15.206955",
     "exception": false,
     "start_time": "2023-04-07T17:54:15.182901",
     "status": "completed"
    },
    "tags": []
   },
   "source": [
    "### EfficientNet B2 training and saving"
   ]
  },
  {
   "cell_type": "code",
   "execution_count": 42,
   "id": "09c06da6",
   "metadata": {
    "execution": {
     "iopub.execute_input": "2023-04-07T17:54:15.257310Z",
     "iopub.status.busy": "2023-04-07T17:54:15.256860Z",
     "iopub.status.idle": "2023-04-07T17:54:15.397031Z",
     "shell.execute_reply": "2023-04-07T17:54:15.395954Z"
    },
    "papermill": {
     "duration": 0.168853,
     "end_time": "2023-04-07T17:54:15.399794",
     "exception": false,
     "start_time": "2023-04-07T17:54:15.230941",
     "status": "completed"
    },
    "tags": []
   },
   "outputs": [
    {
     "name": "stdout",
     "output_type": "stream",
     "text": [
      "1024\n",
      "512\n",
      "256\n"
     ]
    }
   ],
   "source": [
    "# Training model\n",
    "Efficientnet_model = build_model(base_model_4,\n",
    "                        dropout = dropout,\n",
    "                        fc_layers = FC_LAYERS,\n",
    "                        num_classes = 3)\n",
    "\n",
    "# compiling the model\n",
    "opt = tf.keras.optimizers.legacy.RMSprop(learning_rate = 0.0001,decay=1e-4)\n",
    "Efficientnet_model.compile(loss = 'categorical_crossentropy', optimizer= opt, metrics=['accuracy'])\n",
    "# fitting the model\n",
    "# history_efficientnet = Efficientnet_model.fit_generator(training_set,\n",
    "#                          steps_per_epoch = len(training_set),\n",
    "#                          epochs = 10,\n",
    "#                          validation_data = validation_set,\n",
    "#                          validation_steps = len(validation_set),\n",
    "#                          verbose = 1)\n",
    "\n",
    "# # Saving model\n",
    "# Efficientnet_model.save('/kaggle/working/Efficientnet')"
   ]
  },
  {
   "cell_type": "code",
   "execution_count": null,
   "id": "31e8304a",
   "metadata": {
    "papermill": {
     "duration": 0.024394,
     "end_time": "2023-04-07T17:54:15.448475",
     "exception": false,
     "start_time": "2023-04-07T17:54:15.424081",
     "status": "completed"
    },
    "tags": []
   },
   "outputs": [],
   "source": []
  },
  {
   "cell_type": "code",
   "execution_count": 43,
   "id": "9b62fba2",
   "metadata": {
    "execution": {
     "iopub.execute_input": "2023-04-07T17:54:15.499268Z",
     "iopub.status.busy": "2023-04-07T17:54:15.498198Z",
     "iopub.status.idle": "2023-04-07T17:54:15.502788Z",
     "shell.execute_reply": "2023-04-07T17:54:15.502138Z"
    },
    "papermill": {
     "duration": 0.031882,
     "end_time": "2023-04-07T17:54:15.504753",
     "exception": false,
     "start_time": "2023-04-07T17:54:15.472871",
     "status": "completed"
    },
    "tags": []
   },
   "outputs": [],
   "source": [
    "# predic = pd.DataFrame(np.argmax(dense_model.predict(validation_set), axis = 1))"
   ]
  },
  {
   "cell_type": "code",
   "execution_count": 44,
   "id": "248cf3a7",
   "metadata": {
    "execution": {
     "iopub.execute_input": "2023-04-07T17:54:15.555089Z",
     "iopub.status.busy": "2023-04-07T17:54:15.554409Z",
     "iopub.status.idle": "2023-04-07T17:54:15.558704Z",
     "shell.execute_reply": "2023-04-07T17:54:15.557706Z"
    },
    "papermill": {
     "duration": 0.032094,
     "end_time": "2023-04-07T17:54:15.561137",
     "exception": false,
     "start_time": "2023-04-07T17:54:15.529043",
     "status": "completed"
    },
    "tags": []
   },
   "outputs": [],
   "source": [
    "# predic.head()"
   ]
  },
  {
   "cell_type": "code",
   "execution_count": 45,
   "id": "fb745217",
   "metadata": {
    "execution": {
     "iopub.execute_input": "2023-04-07T17:54:15.612229Z",
     "iopub.status.busy": "2023-04-07T17:54:15.611546Z",
     "iopub.status.idle": "2023-04-07T17:54:15.617253Z",
     "shell.execute_reply": "2023-04-07T17:54:15.616301Z"
    },
    "papermill": {
     "duration": 0.033833,
     "end_time": "2023-04-07T17:54:15.619483",
     "exception": false,
     "start_time": "2023-04-07T17:54:15.585650",
     "status": "completed"
    },
    "tags": []
   },
   "outputs": [],
   "source": [
    "# score_valid_dense = accuracy_score(predic, train_csv_valid['Class'])\n",
    "# print(score_valid_dense)"
   ]
  },
  {
   "cell_type": "code",
   "execution_count": 46,
   "id": "cd4376fb",
   "metadata": {
    "execution": {
     "iopub.execute_input": "2023-04-07T17:54:15.671645Z",
     "iopub.status.busy": "2023-04-07T17:54:15.669645Z",
     "iopub.status.idle": "2023-04-07T17:54:15.675171Z",
     "shell.execute_reply": "2023-04-07T17:54:15.674218Z"
    },
    "papermill": {
     "duration": 0.033669,
     "end_time": "2023-04-07T17:54:15.677402",
     "exception": false,
     "start_time": "2023-04-07T17:54:15.643733",
     "status": "completed"
    },
    "tags": []
   },
   "outputs": [],
   "source": [
    "# !zip -r file.zip '/kaggle/working/'"
   ]
  },
  {
   "cell_type": "code",
   "execution_count": 47,
   "id": "eeb47d72",
   "metadata": {
    "execution": {
     "iopub.execute_input": "2023-04-07T17:54:15.728315Z",
     "iopub.status.busy": "2023-04-07T17:54:15.727964Z",
     "iopub.status.idle": "2023-04-07T17:54:15.732203Z",
     "shell.execute_reply": "2023-04-07T17:54:15.731191Z"
    },
    "papermill": {
     "duration": 0.031656,
     "end_time": "2023-04-07T17:54:15.734303",
     "exception": false,
     "start_time": "2023-04-07T17:54:15.702647",
     "status": "completed"
    },
    "tags": []
   },
   "outputs": [],
   "source": [
    "# # Saving model\n",
    "# Rsnt_model.save('/kaggle/working/my_model')"
   ]
  },
  {
   "cell_type": "code",
   "execution_count": 48,
   "id": "c7ae83ae",
   "metadata": {
    "execution": {
     "iopub.execute_input": "2023-04-07T17:54:15.786356Z",
     "iopub.status.busy": "2023-04-07T17:54:15.785349Z",
     "iopub.status.idle": "2023-04-07T17:54:15.790051Z",
     "shell.execute_reply": "2023-04-07T17:54:15.788918Z"
    },
    "papermill": {
     "duration": 0.033223,
     "end_time": "2023-04-07T17:54:15.792277",
     "exception": false,
     "start_time": "2023-04-07T17:54:15.759054",
     "status": "completed"
    },
    "tags": []
   },
   "outputs": [],
   "source": [
    "# Loading model\n",
    "# new_model = tf.keras.models.load_model('/kaggle/working/my_model')"
   ]
  },
  {
   "cell_type": "code",
   "execution_count": 49,
   "id": "a7149423",
   "metadata": {
    "execution": {
     "iopub.execute_input": "2023-04-07T17:54:15.843052Z",
     "iopub.status.busy": "2023-04-07T17:54:15.842059Z",
     "iopub.status.idle": "2023-04-07T17:54:15.848658Z",
     "shell.execute_reply": "2023-04-07T17:54:15.847655Z"
    },
    "papermill": {
     "duration": 0.034281,
     "end_time": "2023-04-07T17:54:15.850916",
     "exception": false,
     "start_time": "2023-04-07T17:54:15.816635",
     "status": "completed"
    },
    "tags": []
   },
   "outputs": [],
   "source": [
    "## Case1: Validation accuracy on ResNet50 model for 30 epochs => 0.7357 --> Image agmentation(rescale = 1./255, shear_range = 0.2, zoom_range = 0.2, horizontal_flip = True)\n",
    "## Case2: Validation accuracy on ResNet50 model for 30 epochs => 0.7204 --> Image agmentation(rescale = 1./255, shear_range = 0.2, zoom_range = 0.2, horizontal_flip = True, rotation_range = 30, fill_mode = 'nearest',width_shift_range = 0.2, height_shift_range=0.2,brightness_range = [0.4, 1.5])\n",
    "## Validation accuracy on ResNet50 model for 20 epochs, loss = categorical => 0.6987 --> Image agmentation(rescale = 1./255, shear_range = 0.2, zoom_range = 0.2, horizontal_flip = True, rotation_range = 30, fill_mode = 'nearest',width_shift_range = 0.2, height_shift_range=0.2,brightness_range = [0.4, 1.5])\n",
    "## Validation accuracy on ResNet50 model for 20 epochs, loss = sparse => 0.6331 --> Image agmentation(rescale = 1./255, shear_range = 0.2, zoom_range = 0.2, horizontal_flip = True, rotation_range = 30, fill_mode = 'nearest',width_shift_range = 0.2, height_shift_range=0.2,brightness_range = [0.4, 1.5])\n",
    "## Validation accuracy on ResNet50 model for 30 epochs, loss = sparse => 0.6500 --> Image agmentation(rescale = 1./255, shear_range = 0.2, zoom_range = 0.2, horizontal_flip = True, rotation_range = 30, fill_mode = 'nearest',width_shift_range = 0.2, height_shift_range=0.2,brightness_range = [0.4, 1.5])\n",
    "# -------RESIZED IMAGES--------\n",
    "## Case1: Validation accuracy on ResNet50 model for 20 epochs => 0.543 and sparse\n",
    "## Case2: Validation accuracy on ResNet50 model for 20 epochs => 0.5453 with sigmoid activation fn and sparse\n",
    "## Case2: Validation accuracy on ResNet50 model for 20 epochs => 0.5453 with relu activation fn and categorical_crossentropy\n",
    "## Inception v3: RMSprop ,accuracy: 0.65\n",
    "## Inception v3: Adam ,accuracy: 0.663\n",
    "## Densenet121: Adam, accuracy: 0.6622\n",
    "## Densenet121: RMSProp, accuracy: 0.6764\n",
    "## EfficientNet B2: RMSProp, accuracy: 0.5374\n",
    "## EfficientNet B2: Adam, accuracy: 0.5374\n",
    "## EfficientNet B7: RMSProp, accuracy: 0.5374\n",
    "## EfficientNet B7: Adam, accuracy: "
   ]
  },
  {
   "cell_type": "code",
   "execution_count": 50,
   "id": "4d115bec",
   "metadata": {
    "execution": {
     "iopub.execute_input": "2023-04-07T17:54:15.902369Z",
     "iopub.status.busy": "2023-04-07T17:54:15.901354Z",
     "iopub.status.idle": "2023-04-07T17:54:15.906372Z",
     "shell.execute_reply": "2023-04-07T17:54:15.905339Z"
    },
    "papermill": {
     "duration": 0.032742,
     "end_time": "2023-04-07T17:54:15.908554",
     "exception": false,
     "start_time": "2023-04-07T17:54:15.875812",
     "status": "completed"
    },
    "tags": []
   },
   "outputs": [],
   "source": [
    "# plt.plot(history.history['accuracy'])\n",
    "# plt.plot(history.history['val_accuracy'])\n",
    "# plt.title('model accuracy')\n",
    "# plt.ylabel('accuracy')\n",
    "# plt.xlabel('epoch')\n",
    "# plt.legend(['train', 'val'], loc='upper left')\n",
    "# plt.show()"
   ]
  },
  {
   "cell_type": "code",
   "execution_count": 51,
   "id": "bdfeee8a",
   "metadata": {
    "execution": {
     "iopub.execute_input": "2023-04-07T17:54:15.960057Z",
     "iopub.status.busy": "2023-04-07T17:54:15.959065Z",
     "iopub.status.idle": "2023-04-07T17:54:15.964026Z",
     "shell.execute_reply": "2023-04-07T17:54:15.963053Z"
    },
    "papermill": {
     "duration": 0.033148,
     "end_time": "2023-04-07T17:54:15.966089",
     "exception": false,
     "start_time": "2023-04-07T17:54:15.932941",
     "status": "completed"
    },
    "tags": []
   },
   "outputs": [],
   "source": [
    "# plt.plot(history.history['loss'])\n",
    "# plt.plot(history.history['val_loss'])\n",
    "# plt.title('model loss')\n",
    "# plt.ylabel('loss')\n",
    "# plt.xlabel('epoch')\n",
    "# plt.legend(['train', 'val'], loc='upper left')\n",
    "# plt.show()"
   ]
  },
  {
   "cell_type": "code",
   "execution_count": 52,
   "id": "322067bd",
   "metadata": {
    "execution": {
     "iopub.execute_input": "2023-04-07T17:54:16.016985Z",
     "iopub.status.busy": "2023-04-07T17:54:16.016361Z",
     "iopub.status.idle": "2023-04-07T17:54:16.020769Z",
     "shell.execute_reply": "2023-04-07T17:54:16.019746Z"
    },
    "papermill": {
     "duration": 0.032201,
     "end_time": "2023-04-07T17:54:16.023030",
     "exception": false,
     "start_time": "2023-04-07T17:54:15.990829",
     "status": "completed"
    },
    "tags": []
   },
   "outputs": [],
   "source": [
    "# test_datagen = ImageDataGenerator(rescale = 1./255)\n",
    "# test_set = test_datagen.flow_from_directory('/kaggle/working/Test/',\n",
    "#                                   target_size = (224, 224),\n",
    "#                                   batch_size = batch_size,\n",
    "#                                   class_mode = 'categorical',\n",
    "#                                     color_mode='rgb')"
   ]
  },
  {
   "cell_type": "code",
   "execution_count": 53,
   "id": "bf0e4771",
   "metadata": {
    "execution": {
     "iopub.execute_input": "2023-04-07T17:54:16.074413Z",
     "iopub.status.busy": "2023-04-07T17:54:16.073715Z",
     "iopub.status.idle": "2023-04-07T17:54:16.078122Z",
     "shell.execute_reply": "2023-04-07T17:54:16.077131Z"
    },
    "papermill": {
     "duration": 0.032538,
     "end_time": "2023-04-07T17:54:16.080222",
     "exception": false,
     "start_time": "2023-04-07T17:54:16.047684",
     "status": "completed"
    },
    "tags": []
   },
   "outputs": [],
   "source": [
    "# import tensorflow \n",
    "# # from tensorflow.keras.models import load_model\n",
    "# tl_model = tensorflow.keras.models.load_model('/kaggle/input/model-and-its-weights-for-age-detection-problem/age_detection.h5')"
   ]
  },
  {
   "cell_type": "markdown",
   "id": "48cec68e",
   "metadata": {
    "papermill": {
     "duration": 0.0248,
     "end_time": "2023-04-07T17:54:16.129681",
     "exception": false,
     "start_time": "2023-04-07T17:54:16.104881",
     "status": "completed"
    },
    "tags": []
   },
   "source": [
    "### Densenet's prediction \n"
   ]
  },
  {
   "cell_type": "code",
   "execution_count": 54,
   "id": "20ccb4c1",
   "metadata": {
    "execution": {
     "iopub.execute_input": "2023-04-07T17:54:16.191308Z",
     "iopub.status.busy": "2023-04-07T17:54:16.189630Z",
     "iopub.status.idle": "2023-04-07T17:54:16.195421Z",
     "shell.execute_reply": "2023-04-07T17:54:16.194687Z"
    },
    "papermill": {
     "duration": 0.044535,
     "end_time": "2023-04-07T17:54:16.198775",
     "exception": false,
     "start_time": "2023-04-07T17:54:16.154240",
     "status": "completed"
    },
    "tags": []
   },
   "outputs": [],
   "source": [
    "# dense_model = tf.keras.models.load_model('/kaggle/input/ensembling-age-detection-analytics-vidhya-25-03-23/kaggle_working/Densenet')\n",
    "# predictions_dense = dense_model.predict(test_set)    \n",
    "# pred_labels_dense = np.argmax(predictions_dense, axis = 1)\n",
    "# pred_labels_dense = pd.DataFrame(pred_labels_dense)\n",
    "# pred_labels_dense.head()"
   ]
  },
  {
   "cell_type": "markdown",
   "id": "d3f05941",
   "metadata": {
    "papermill": {
     "duration": 0.04932,
     "end_time": "2023-04-07T17:54:16.295776",
     "exception": false,
     "start_time": "2023-04-07T17:54:16.246456",
     "status": "completed"
    },
    "tags": []
   },
   "source": [
    "### Efficientnet's prediction"
   ]
  },
  {
   "cell_type": "code",
   "execution_count": 55,
   "id": "d36c3ef5",
   "metadata": {
    "execution": {
     "iopub.execute_input": "2023-04-07T17:54:16.380047Z",
     "iopub.status.busy": "2023-04-07T17:54:16.379048Z",
     "iopub.status.idle": "2023-04-07T17:54:16.383967Z",
     "shell.execute_reply": "2023-04-07T17:54:16.383014Z"
    },
    "papermill": {
     "duration": 0.051446,
     "end_time": "2023-04-07T17:54:16.386107",
     "exception": false,
     "start_time": "2023-04-07T17:54:16.334661",
     "status": "completed"
    },
    "tags": []
   },
   "outputs": [],
   "source": [
    "# effic_model = tf.keras.models.load_model('/kaggle/input/ensembling-age-detection-analytics-vidhya-25-03-23/kaggle_working/Efficientnet')\n",
    "# predictions_effic = effic_model.predict(test_set)    \n",
    "# pred_labels_effic = np.argmax(predictions_effic, axis = 1)\n",
    "# pred_labels_effic = pd.DataFrame(pred_labels_effic)\n",
    "# pred_labels_effic.head()"
   ]
  },
  {
   "cell_type": "markdown",
   "id": "86f3c9a4",
   "metadata": {
    "papermill": {
     "duration": 0.024422,
     "end_time": "2023-04-07T17:54:16.435655",
     "exception": false,
     "start_time": "2023-04-07T17:54:16.411233",
     "status": "completed"
    },
    "tags": []
   },
   "source": [
    "### Inception's prediction"
   ]
  },
  {
   "cell_type": "code",
   "execution_count": 56,
   "id": "e8f8b325",
   "metadata": {
    "execution": {
     "iopub.execute_input": "2023-04-07T17:54:16.487094Z",
     "iopub.status.busy": "2023-04-07T17:54:16.486735Z",
     "iopub.status.idle": "2023-04-07T17:54:16.491331Z",
     "shell.execute_reply": "2023-04-07T17:54:16.490216Z"
    },
    "papermill": {
     "duration": 0.032673,
     "end_time": "2023-04-07T17:54:16.493417",
     "exception": false,
     "start_time": "2023-04-07T17:54:16.460744",
     "status": "completed"
    },
    "tags": []
   },
   "outputs": [],
   "source": [
    "# inception_model = tf.keras.models.load_model('/kaggle/input/ensembling-age-detection-analytics-vidhya-25-03-23/kaggle_working/Inception')\n",
    "# predictions_inception = inception_model.predict(test_set)    \n",
    "# pred_labels_inception = np.argmax(predictions_inception, axis = 1)\n",
    "# pred_labels_inception = pd.DataFrame(pred_labels_inception)\n",
    "# pred_labels_inception.head()"
   ]
  },
  {
   "cell_type": "markdown",
   "id": "19cc2037",
   "metadata": {
    "papermill": {
     "duration": 0.024449,
     "end_time": "2023-04-07T17:54:16.542653",
     "exception": false,
     "start_time": "2023-04-07T17:54:16.518204",
     "status": "completed"
    },
    "tags": []
   },
   "source": [
    "### Rsnt's prediction"
   ]
  },
  {
   "cell_type": "code",
   "execution_count": 57,
   "id": "316a3df6",
   "metadata": {
    "execution": {
     "iopub.execute_input": "2023-04-07T17:54:16.594099Z",
     "iopub.status.busy": "2023-04-07T17:54:16.593117Z",
     "iopub.status.idle": "2023-04-07T17:54:16.598131Z",
     "shell.execute_reply": "2023-04-07T17:54:16.597194Z"
    },
    "papermill": {
     "duration": 0.033026,
     "end_time": "2023-04-07T17:54:16.600250",
     "exception": false,
     "start_time": "2023-04-07T17:54:16.567224",
     "status": "completed"
    },
    "tags": []
   },
   "outputs": [],
   "source": [
    "# rsnt_model = tf.keras.models.load_model('/kaggle/input/ensembling-age-detection-analytics-vidhya-25-03-23/kaggle_working/Rsnt')\n",
    "# predictions_rsnt = rsnt_model.predict(test_set)    \n",
    "# pred_labels_rsnt = np.argmax(predictions_rsnt, axis = 1)\n",
    "# pred_labels_rsnt = pd.DataFrame(pred_labels_rsnt)\n",
    "# pred_labels_rsnt.head()"
   ]
  },
  {
   "cell_type": "code",
   "execution_count": 58,
   "id": "b8123cd7",
   "metadata": {
    "execution": {
     "iopub.execute_input": "2023-04-07T17:54:16.651828Z",
     "iopub.status.busy": "2023-04-07T17:54:16.651482Z",
     "iopub.status.idle": "2023-04-07T17:54:16.655906Z",
     "shell.execute_reply": "2023-04-07T17:54:16.654877Z"
    },
    "papermill": {
     "duration": 0.032432,
     "end_time": "2023-04-07T17:54:16.658085",
     "exception": false,
     "start_time": "2023-04-07T17:54:16.625653",
     "status": "completed"
    },
    "tags": []
   },
   "outputs": [],
   "source": [
    "## Prediction for test set \n",
    "# df = pred_labels_dense.copy()\n",
    "# df['inception'] = pred_labels_inception\n",
    "# df['effic'] = pred_labels_effic\n",
    "# df['rsnt'] = pred_labels_rsnt\n",
    "# df_final = pd.DataFrame(df)\n",
    "# df_final.head()\n",
    "# # df_f = pd.DataFrame(df, columns = ['dense', 'inception', 'effic', 'rsnt'])\n",
    "# # df_f.head()\n",
    "# df_1 = df_final.mode(axis = 'columns')\n",
    "# df_1 = pd.DataFrame(df_1[0])\n",
    "# df_1.head()"
   ]
  },
  {
   "cell_type": "code",
   "execution_count": 59,
   "id": "965bf4d3",
   "metadata": {
    "execution": {
     "iopub.execute_input": "2023-04-07T17:54:16.709265Z",
     "iopub.status.busy": "2023-04-07T17:54:16.708879Z",
     "iopub.status.idle": "2023-04-07T17:58:17.138671Z",
     "shell.execute_reply": "2023-04-07T17:58:17.137565Z"
    },
    "papermill": {
     "duration": 240.490136,
     "end_time": "2023-04-07T17:58:17.172816",
     "exception": false,
     "start_time": "2023-04-07T17:54:16.682680",
     "status": "completed"
    },
    "tags": []
   },
   "outputs": [],
   "source": [
    "dense_model_1 = tf.keras.models.load_model('/kaggle/input/ensembling-models-age-detection-31-03-23/Densenet1')\n",
    "dense_model_2 = tf.keras.models.load_model('/kaggle/input/ensembling-models-age-detection-31-03-23/Densenet2')\n",
    "dense_model_3 = tf.keras.models.load_model('/kaggle/input/ensembling-models-age-detection-31-03-23/Densenet3')\n",
    "dense_model_4 = tf.keras.models.load_model('/kaggle/input/ensembling-models-age-detection-31-03-23/Densenet4')\n",
    "dense_model_5 = tf.keras.models.load_model('/kaggle/input/ensembling-models-age-detection-31-03-23/Densenet5')\n",
    "\n",
    "inception_model_1 = tf.keras.models.load_model('/kaggle/input/ensembling-models-age-detection-31-03-23/Inception_1')\n",
    "inception_model_2 = tf.keras.models.load_model('/kaggle/input/ensembling-models-age-detection-31-03-23/Inception_2')\n",
    "inception_model_3 = tf.keras.models.load_model('/kaggle/input/ensembling-models-age-detection-31-03-23/Inception_3')\n",
    "inception_model_4 = tf.keras.models.load_model('/kaggle/input/ensembling-models-age-detection-31-03-23/Inception_4')\n",
    "inception_model_5 = tf.keras.models.load_model('/kaggle/input/ensembling-models-age-detection-31-03-23/Inception_5')\n",
    "\n",
    "rsnt_model_1 = tf.keras.models.load_model('/kaggle/input/ensembling-models-age-detection-31-03-23/Rsnt_1')\n",
    "rsnt_model_2 = tf.keras.models.load_model('/kaggle/input/ensembling-models-age-detection-31-03-23/Rsnt_2')\n",
    "rsnt_model_3 = tf.keras.models.load_model('/kaggle/input/ensembling-models-age-detection-31-03-23/Rsnt_3')\n",
    "rsnt_model_4 = tf.keras.models.load_model('/kaggle/input/ensembling-models-age-detection-31-03-23/Rsnt_4')\n",
    "rsnt_model_5 = tf.keras.models.load_model('/kaggle/input/ensembling-models-age-detection-31-03-23/Rsnt_5')"
   ]
  },
  {
   "cell_type": "code",
   "execution_count": 60,
   "id": "809a2dcd",
   "metadata": {
    "execution": {
     "iopub.execute_input": "2023-04-07T17:58:17.231055Z",
     "iopub.status.busy": "2023-04-07T17:58:17.229910Z",
     "iopub.status.idle": "2023-04-07T17:58:17.235901Z",
     "shell.execute_reply": "2023-04-07T17:58:17.234821Z"
    },
    "papermill": {
     "duration": 0.036072,
     "end_time": "2023-04-07T17:58:17.237979",
     "exception": false,
     "start_time": "2023-04-07T17:58:17.201907",
     "status": "completed"
    },
    "tags": []
   },
   "outputs": [],
   "source": [
    "# dm = tf.keras.models.load_model('/kaggle/input/ensembling-models-age-detection-31-03-23/Densenet1')"
   ]
  },
  {
   "cell_type": "code",
   "execution_count": 61,
   "id": "1fc60005",
   "metadata": {
    "execution": {
     "iopub.execute_input": "2023-04-07T17:58:17.290230Z",
     "iopub.status.busy": "2023-04-07T17:58:17.289835Z",
     "iopub.status.idle": "2023-04-07T17:58:17.294120Z",
     "shell.execute_reply": "2023-04-07T17:58:17.293097Z"
    },
    "papermill": {
     "duration": 0.033344,
     "end_time": "2023-04-07T17:58:17.296429",
     "exception": false,
     "start_time": "2023-04-07T17:58:17.263085",
     "status": "completed"
    },
    "tags": []
   },
   "outputs": [],
   "source": [
    "# dense_model_1.summary()"
   ]
  },
  {
   "cell_type": "code",
   "execution_count": 62,
   "id": "cf940c1b",
   "metadata": {
    "execution": {
     "iopub.execute_input": "2023-04-07T17:58:17.349508Z",
     "iopub.status.busy": "2023-04-07T17:58:17.348530Z",
     "iopub.status.idle": "2023-04-07T18:01:02.974000Z",
     "shell.execute_reply": "2023-04-07T18:01:02.972925Z"
    },
    "papermill": {
     "duration": 165.655185,
     "end_time": "2023-04-07T18:01:02.976781",
     "exception": false,
     "start_time": "2023-04-07T17:58:17.321596",
     "status": "completed"
    },
    "tags": []
   },
   "outputs": [
    {
     "name": "stderr",
     "output_type": "stream",
     "text": [
      "100%|██████████| 13337/13337 [01:47<00:00, 123.69it/s]\n",
      "100%|██████████| 6569/6569 [00:57<00:00, 114.80it/s]\n"
     ]
    },
    {
     "name": "stdout",
     "output_type": "stream",
     "text": [
      "Found 13337 images belonging to 3 classes.\n",
      "Found 6569 images belonging to 3 classes.\n"
     ]
    }
   ],
   "source": [
    "# Train and validation split using Hold out method\n",
    "train_csv_valid = train_csv.sample(frac=0.33)\n",
    "train_csv_train = train_csv.drop(train_csv_valid.index)\n",
    "\n",
    "# for training dataset\n",
    "for index, row in tqdm(train_csv_train.iterrows(),total=len(train_csv_train)):\n",
    "        image_train = cv2.imread('/kaggle/input/age-detection-analytics-vidhya-peter/train_DETg9GD/Train/'+row['ID'])\n",
    "        image_train = cv2.resize(image_train,(224,224))\n",
    "        img_path_train = \"/kaggle/working/Image_set/Train/\"+str(row['Class'])+\"/\"+row['ID']\n",
    "        save_img(img_path_train,image_train)\n",
    "    ## for validation dataset\n",
    "for index, row in tqdm(train_csv_valid.iterrows(),total=len(train_csv_valid)):\n",
    "        image_valid = cv2.imread('/kaggle/input/age-detection-analytics-vidhya-peter/train_DETg9GD/Train/'+row['ID'])\n",
    "        image_valid = cv2.resize(image_valid,(224,224))\n",
    "        img_path_valid = '/kaggle/working/Image_set/Valid/'+str(row['Class'])+\"/\"+row['ID']\n",
    "        save_img(img_path_valid,image_valid)\n",
    "\n",
    "        \n",
    "batch_size = 32\n",
    "train_datagen = ImageDataGenerator(rescale = 1./255,\n",
    "                                   zoom_range = 0.2,\n",
    "                                   horizontal_flip = True, \n",
    "                                  rotation_range = 10, fill_mode = 'nearest',\n",
    "                                  width_shift_range = 0.2, height_shift_range=0.2)\n",
    "val_datagen = ImageDataGenerator(rescale = 1./255)\n",
    "training_set = train_datagen.flow_from_directory('/kaggle/working/Image_set/Train/',\n",
    "                                   target_size = (224,224),\n",
    "                                   batch_size = batch_size,\n",
    "                                   class_mode = 'categorical',\n",
    "                                    color_mode='rgb')\n",
    "validation_set = val_datagen.flow_from_directory('/kaggle/working/Image_set/Valid/',\n",
    "                                  target_size = (224, 224),\n",
    "                                  batch_size = batch_size,\n",
    "                                  class_mode = 'categorical',\n",
    "                                    color_mode='rgb')"
   ]
  },
  {
   "cell_type": "markdown",
   "id": "3a7f4b55",
   "metadata": {
    "papermill": {
     "duration": 0.12202,
     "end_time": "2023-04-07T18:01:03.205362",
     "exception": false,
     "start_time": "2023-04-07T18:01:03.083342",
     "status": "completed"
    },
    "tags": []
   },
   "source": [
    "### Max Voting Ensembling"
   ]
  },
  {
   "cell_type": "code",
   "execution_count": 63,
   "id": "84871413",
   "metadata": {
    "execution": {
     "iopub.execute_input": "2023-04-07T18:01:03.492297Z",
     "iopub.status.busy": "2023-04-07T18:01:03.491865Z",
     "iopub.status.idle": "2023-04-07T18:01:03.496646Z",
     "shell.execute_reply": "2023-04-07T18:01:03.495552Z"
    },
    "papermill": {
     "duration": 0.113699,
     "end_time": "2023-04-07T18:01:03.498948",
     "exception": false,
     "start_time": "2023-04-07T18:01:03.385249",
     "status": "completed"
    },
    "tags": []
   },
   "outputs": [],
   "source": [
    "# dm.predict(validation_set)"
   ]
  },
  {
   "cell_type": "code",
   "execution_count": 64,
   "id": "c023b810",
   "metadata": {
    "execution": {
     "iopub.execute_input": "2023-04-07T18:01:03.710877Z",
     "iopub.status.busy": "2023-04-07T18:01:03.710470Z",
     "iopub.status.idle": "2023-04-07T18:01:03.715172Z",
     "shell.execute_reply": "2023-04-07T18:01:03.714171Z"
    },
    "papermill": {
     "duration": 0.113204,
     "end_time": "2023-04-07T18:01:03.717274",
     "exception": false,
     "start_time": "2023-04-07T18:01:03.604070",
     "status": "completed"
    },
    "tags": []
   },
   "outputs": [],
   "source": [
    "# predictions_dense1_valid = pd.DataFrame(np.argmax(dm.predict(validation_set), axis = 1))\n",
    "# predictions_dense1_valid"
   ]
  },
  {
   "cell_type": "code",
   "execution_count": 65,
   "id": "dcc3083c",
   "metadata": {
    "execution": {
     "iopub.execute_input": "2023-04-07T18:01:03.929633Z",
     "iopub.status.busy": "2023-04-07T18:01:03.928915Z",
     "iopub.status.idle": "2023-04-07T18:05:23.424088Z",
     "shell.execute_reply": "2023-04-07T18:05:23.423015Z"
    },
    "papermill": {
     "duration": 259.604541,
     "end_time": "2023-04-07T18:05:23.426675",
     "exception": false,
     "start_time": "2023-04-07T18:01:03.822134",
     "status": "completed"
    },
    "tags": []
   },
   "outputs": [
    {
     "name": "stdout",
     "output_type": "stream",
     "text": [
      "206/206 [==============================] - 23s 78ms/step\n",
      "206/206 [==============================] - 17s 74ms/step\n",
      "206/206 [==============================] - 17s 71ms/step\n",
      "206/206 [==============================] - 18s 76ms/step\n",
      "206/206 [==============================] - 17s 72ms/step\n",
      "206/206 [==============================] - 17s 73ms/step\n",
      "206/206 [==============================] - 16s 73ms/step\n",
      "206/206 [==============================] - 17s 71ms/step\n",
      "206/206 [==============================] - 16s 72ms/step\n",
      "206/206 [==============================] - 15s 67ms/step\n",
      "206/206 [==============================] - 17s 76ms/step\n",
      "206/206 [==============================] - 15s 69ms/step\n",
      "206/206 [==============================] - 16s 71ms/step\n",
      "206/206 [==============================] - 15s 70ms/step\n",
      "206/206 [==============================] - 16s 74ms/step\n"
     ]
    }
   ],
   "source": [
    "predictions_dense1_valid = pd.DataFrame(np.argmax(dense_model_1.predict(validation_set), axis = 1))\n",
    "predictions_dense2_valid = pd.DataFrame(np.argmax(dense_model_2.predict(validation_set), axis = 1))\n",
    "predictions_dense3_valid = pd.DataFrame(np.argmax(dense_model_3.predict(validation_set), axis = 1))\n",
    "predictions_dense4_valid = pd.DataFrame(np.argmax(dense_model_4.predict(validation_set), axis = 1))\n",
    "predictions_dense5_valid = pd.DataFrame(np.argmax(dense_model_5.predict(validation_set), axis = 1))\n",
    "\n",
    "predictions_inception1_valid = pd.DataFrame(np.argmax(inception_model_1.predict(validation_set), axis = 1))\n",
    "predictions_inception2_valid = pd.DataFrame(np.argmax(inception_model_2.predict(validation_set), axis = 1))\n",
    "predictions_inception3_valid = pd.DataFrame(np.argmax(inception_model_3.predict(validation_set), axis = 1))\n",
    "predictions_inception4_valid = pd.DataFrame(np.argmax(inception_model_4.predict(validation_set), axis = 1))\n",
    "predictions_inception5_valid = pd.DataFrame(np.argmax(inception_model_5.predict(validation_set), axis = 1))\n",
    "\n",
    "predictions_rsnt1_valid = pd.DataFrame(np.argmax(rsnt_model_1.predict(validation_set), axis = 1))\n",
    "predictions_rsnt2_valid = pd.DataFrame(np.argmax(rsnt_model_2.predict(validation_set), axis = 1))\n",
    "predictions_rsnt3_valid = pd.DataFrame(np.argmax(rsnt_model_3.predict(validation_set), axis = 1))\n",
    "predictions_rsnt4_valid = pd.DataFrame(np.argmax(rsnt_model_4.predict(validation_set), axis = 1))\n",
    "predictions_rsnt5_valid = pd.DataFrame(np.argmax(rsnt_model_5.predict(validation_set), axis = 1))"
   ]
  },
  {
   "cell_type": "code",
   "execution_count": 66,
   "id": "0d8f6657",
   "metadata": {
    "execution": {
     "iopub.execute_input": "2023-04-07T18:05:24.017402Z",
     "iopub.status.busy": "2023-04-07T18:05:24.016435Z",
     "iopub.status.idle": "2023-04-07T18:05:24.021946Z",
     "shell.execute_reply": "2023-04-07T18:05:24.020878Z"
    },
    "papermill": {
     "duration": 0.32944,
     "end_time": "2023-04-07T18:05:24.024233",
     "exception": false,
     "start_time": "2023-04-07T18:05:23.694793",
     "status": "completed"
    },
    "tags": []
   },
   "outputs": [],
   "source": [
    "# df_valid_new = pd.DataFrame([])\n",
    "# df_valid_new['dense1'] = predictions_dense4_valid\n",
    "# df_valid_new.head()"
   ]
  },
  {
   "cell_type": "code",
   "execution_count": 67,
   "id": "2d9ddeeb",
   "metadata": {
    "execution": {
     "iopub.execute_input": "2023-04-07T18:05:24.559337Z",
     "iopub.status.busy": "2023-04-07T18:05:24.558314Z",
     "iopub.status.idle": "2023-04-07T18:05:24.563072Z",
     "shell.execute_reply": "2023-04-07T18:05:24.561933Z"
    },
    "papermill": {
     "duration": 0.274555,
     "end_time": "2023-04-07T18:05:24.565264",
     "exception": false,
     "start_time": "2023-04-07T18:05:24.290709",
     "status": "completed"
    },
    "tags": []
   },
   "outputs": [],
   "source": [
    "# from sklearn.metrics import accuracy_score\n",
    "# score_new = accuracy_score(df_valid_new, train_csv_valid['Class'])\n",
    "# print(score_new)"
   ]
  },
  {
   "cell_type": "code",
   "execution_count": 68,
   "id": "1980cfaf",
   "metadata": {
    "execution": {
     "iopub.execute_input": "2023-04-07T18:05:25.100671Z",
     "iopub.status.busy": "2023-04-07T18:05:25.100300Z",
     "iopub.status.idle": "2023-04-07T18:05:25.104749Z",
     "shell.execute_reply": "2023-04-07T18:05:25.103655Z"
    },
    "papermill": {
     "duration": 0.276953,
     "end_time": "2023-04-07T18:05:25.107035",
     "exception": false,
     "start_time": "2023-04-07T18:05:24.830082",
     "status": "completed"
    },
    "tags": []
   },
   "outputs": [],
   "source": [
    "# predictions_dense_valid.head()"
   ]
  },
  {
   "cell_type": "code",
   "execution_count": 69,
   "id": "96b8bd65",
   "metadata": {
    "execution": {
     "iopub.execute_input": "2023-04-07T18:05:25.725901Z",
     "iopub.status.busy": "2023-04-07T18:05:25.725524Z",
     "iopub.status.idle": "2023-04-07T18:05:25.729867Z",
     "shell.execute_reply": "2023-04-07T18:05:25.728778Z"
    },
    "papermill": {
     "duration": 0.324384,
     "end_time": "2023-04-07T18:05:25.732068",
     "exception": false,
     "start_time": "2023-04-07T18:05:25.407684",
     "status": "completed"
    },
    "tags": []
   },
   "outputs": [],
   "source": [
    "# from sklearn.metrics import accuracy_score\n",
    "# score3 = accuracy_score(predictions_dense_valid, train_csv_valid['Class'])\n",
    "# print(score3)"
   ]
  },
  {
   "cell_type": "code",
   "execution_count": 70,
   "id": "b7b48f01",
   "metadata": {
    "execution": {
     "iopub.execute_input": "2023-04-07T18:05:26.274458Z",
     "iopub.status.busy": "2023-04-07T18:05:26.273543Z",
     "iopub.status.idle": "2023-04-07T18:05:26.278928Z",
     "shell.execute_reply": "2023-04-07T18:05:26.277846Z"
    },
    "papermill": {
     "duration": 0.2848,
     "end_time": "2023-04-07T18:05:26.281137",
     "exception": false,
     "start_time": "2023-04-07T18:05:25.996337",
     "status": "completed"
    },
    "tags": []
   },
   "outputs": [],
   "source": [
    "# from sklearn.metrics import accuracy_score\n",
    "# score4 = accuracy_score(predictions_effic_valid, train_csv_valid['Class'])\n",
    "# print(score4)"
   ]
  },
  {
   "cell_type": "code",
   "execution_count": 71,
   "id": "2309bef0",
   "metadata": {
    "execution": {
     "iopub.execute_input": "2023-04-07T18:05:26.815238Z",
     "iopub.status.busy": "2023-04-07T18:05:26.814178Z",
     "iopub.status.idle": "2023-04-07T18:05:26.818950Z",
     "shell.execute_reply": "2023-04-07T18:05:26.817815Z"
    },
    "papermill": {
     "duration": 0.274637,
     "end_time": "2023-04-07T18:05:26.821084",
     "exception": false,
     "start_time": "2023-04-07T18:05:26.546447",
     "status": "completed"
    },
    "tags": []
   },
   "outputs": [],
   "source": [
    "# from sklearn.metrics import accuracy_score\n",
    "# score5 = accuracy_score(predictions_inception_valid, train_csv_valid['Class'])\n",
    "# print(score5)"
   ]
  },
  {
   "cell_type": "code",
   "execution_count": 72,
   "id": "b7802317",
   "metadata": {
    "execution": {
     "iopub.execute_input": "2023-04-07T18:05:27.512301Z",
     "iopub.status.busy": "2023-04-07T18:05:27.511897Z",
     "iopub.status.idle": "2023-04-07T18:05:27.516735Z",
     "shell.execute_reply": "2023-04-07T18:05:27.515629Z"
    },
    "papermill": {
     "duration": 0.432092,
     "end_time": "2023-04-07T18:05:27.519104",
     "exception": false,
     "start_time": "2023-04-07T18:05:27.087012",
     "status": "completed"
    },
    "tags": []
   },
   "outputs": [],
   "source": [
    "# from sklearn.metrics import accuracy_score\n",
    "# score6 = accuracy_score(predictions_rsnt_valid, train_csv_valid['Class'])\n",
    "# print(score6)"
   ]
  },
  {
   "cell_type": "code",
   "execution_count": 73,
   "id": "f690ac41",
   "metadata": {
    "execution": {
     "iopub.execute_input": "2023-04-07T18:05:28.053137Z",
     "iopub.status.busy": "2023-04-07T18:05:28.052763Z",
     "iopub.status.idle": "2023-04-07T18:05:28.057208Z",
     "shell.execute_reply": "2023-04-07T18:05:28.056147Z"
    },
    "papermill": {
     "duration": 0.273698,
     "end_time": "2023-04-07T18:05:28.059438",
     "exception": false,
     "start_time": "2023-04-07T18:05:27.785740",
     "status": "completed"
    },
    "tags": []
   },
   "outputs": [],
   "source": [
    "# dense_model.predict(validation_set)"
   ]
  },
  {
   "cell_type": "code",
   "execution_count": 74,
   "id": "0d904ff8",
   "metadata": {
    "execution": {
     "iopub.execute_input": "2023-04-07T18:05:28.594897Z",
     "iopub.status.busy": "2023-04-07T18:05:28.594517Z",
     "iopub.status.idle": "2023-04-07T18:05:28.599009Z",
     "shell.execute_reply": "2023-04-07T18:05:28.597917Z"
    },
    "papermill": {
     "duration": 0.275321,
     "end_time": "2023-04-07T18:05:28.601401",
     "exception": false,
     "start_time": "2023-04-07T18:05:28.326080",
     "status": "completed"
    },
    "tags": []
   },
   "outputs": [],
   "source": [
    "# predictions_dense_valid"
   ]
  },
  {
   "cell_type": "code",
   "execution_count": null,
   "id": "fea16ee3",
   "metadata": {
    "papermill": {
     "duration": 0.269384,
     "end_time": "2023-04-07T18:05:29.186274",
     "exception": false,
     "start_time": "2023-04-07T18:05:28.916890",
     "status": "completed"
    },
    "tags": []
   },
   "outputs": [],
   "source": []
  },
  {
   "cell_type": "code",
   "execution_count": 75,
   "id": "a8beb2f1",
   "metadata": {
    "execution": {
     "iopub.execute_input": "2023-04-07T18:05:29.714870Z",
     "iopub.status.busy": "2023-04-07T18:05:29.714144Z",
     "iopub.status.idle": "2023-04-07T18:05:29.742385Z",
     "shell.execute_reply": "2023-04-07T18:05:29.741348Z"
    },
    "papermill": {
     "duration": 0.295492,
     "end_time": "2023-04-07T18:05:29.744583",
     "exception": false,
     "start_time": "2023-04-07T18:05:29.449091",
     "status": "completed"
    },
    "tags": []
   },
   "outputs": [
    {
     "data": {
      "text/html": [
       "<div>\n",
       "<style scoped>\n",
       "    .dataframe tbody tr th:only-of-type {\n",
       "        vertical-align: middle;\n",
       "    }\n",
       "\n",
       "    .dataframe tbody tr th {\n",
       "        vertical-align: top;\n",
       "    }\n",
       "\n",
       "    .dataframe thead th {\n",
       "        text-align: right;\n",
       "    }\n",
       "</style>\n",
       "<table border=\"1\" class=\"dataframe\">\n",
       "  <thead>\n",
       "    <tr style=\"text-align: right;\">\n",
       "      <th></th>\n",
       "      <th>dense1</th>\n",
       "      <th>dense2</th>\n",
       "      <th>dense3</th>\n",
       "      <th>dense4</th>\n",
       "      <th>dense5</th>\n",
       "      <th>inception1</th>\n",
       "      <th>inception2</th>\n",
       "      <th>inception3</th>\n",
       "      <th>inception4</th>\n",
       "      <th>inception5</th>\n",
       "      <th>rsnt1</th>\n",
       "      <th>rsnt2</th>\n",
       "      <th>rsnt3</th>\n",
       "      <th>rsnt4</th>\n",
       "      <th>rsnt5</th>\n",
       "    </tr>\n",
       "  </thead>\n",
       "  <tbody>\n",
       "    <tr>\n",
       "      <th>0</th>\n",
       "      <td>0</td>\n",
       "      <td>0</td>\n",
       "      <td>0</td>\n",
       "      <td>0</td>\n",
       "      <td>0</td>\n",
       "      <td>0</td>\n",
       "      <td>1</td>\n",
       "      <td>2</td>\n",
       "      <td>1</td>\n",
       "      <td>0</td>\n",
       "      <td>0</td>\n",
       "      <td>2</td>\n",
       "      <td>0</td>\n",
       "      <td>2</td>\n",
       "      <td>2</td>\n",
       "    </tr>\n",
       "    <tr>\n",
       "      <th>1</th>\n",
       "      <td>0</td>\n",
       "      <td>0</td>\n",
       "      <td>0</td>\n",
       "      <td>0</td>\n",
       "      <td>2</td>\n",
       "      <td>0</td>\n",
       "      <td>1</td>\n",
       "      <td>2</td>\n",
       "      <td>0</td>\n",
       "      <td>0</td>\n",
       "      <td>0</td>\n",
       "      <td>2</td>\n",
       "      <td>0</td>\n",
       "      <td>0</td>\n",
       "      <td>2</td>\n",
       "    </tr>\n",
       "    <tr>\n",
       "      <th>2</th>\n",
       "      <td>2</td>\n",
       "      <td>0</td>\n",
       "      <td>0</td>\n",
       "      <td>0</td>\n",
       "      <td>2</td>\n",
       "      <td>2</td>\n",
       "      <td>2</td>\n",
       "      <td>0</td>\n",
       "      <td>1</td>\n",
       "      <td>0</td>\n",
       "      <td>0</td>\n",
       "      <td>2</td>\n",
       "      <td>0</td>\n",
       "      <td>0</td>\n",
       "      <td>2</td>\n",
       "    </tr>\n",
       "    <tr>\n",
       "      <th>3</th>\n",
       "      <td>0</td>\n",
       "      <td>0</td>\n",
       "      <td>0</td>\n",
       "      <td>0</td>\n",
       "      <td>0</td>\n",
       "      <td>2</td>\n",
       "      <td>2</td>\n",
       "      <td>0</td>\n",
       "      <td>0</td>\n",
       "      <td>0</td>\n",
       "      <td>0</td>\n",
       "      <td>0</td>\n",
       "      <td>0</td>\n",
       "      <td>0</td>\n",
       "      <td>0</td>\n",
       "    </tr>\n",
       "    <tr>\n",
       "      <th>4</th>\n",
       "      <td>0</td>\n",
       "      <td>0</td>\n",
       "      <td>2</td>\n",
       "      <td>0</td>\n",
       "      <td>0</td>\n",
       "      <td>2</td>\n",
       "      <td>0</td>\n",
       "      <td>2</td>\n",
       "      <td>0</td>\n",
       "      <td>2</td>\n",
       "      <td>0</td>\n",
       "      <td>0</td>\n",
       "      <td>2</td>\n",
       "      <td>0</td>\n",
       "      <td>0</td>\n",
       "    </tr>\n",
       "  </tbody>\n",
       "</table>\n",
       "</div>"
      ],
      "text/plain": [
       "   dense1  dense2  dense3  dense4  dense5  inception1  inception2  inception3  \\\n",
       "0       0       0       0       0       0           0           1           2   \n",
       "1       0       0       0       0       2           0           1           2   \n",
       "2       2       0       0       0       2           2           2           0   \n",
       "3       0       0       0       0       0           2           2           0   \n",
       "4       0       0       2       0       0           2           0           2   \n",
       "\n",
       "   inception4  inception5  rsnt1  rsnt2  rsnt3  rsnt4  rsnt5  \n",
       "0           1           0      0      2      0      2      2  \n",
       "1           0           0      0      2      0      0      2  \n",
       "2           1           0      0      2      0      0      2  \n",
       "3           0           0      0      0      0      0      0  \n",
       "4           0           2      0      0      2      0      0  "
      ]
     },
     "execution_count": 75,
     "metadata": {},
     "output_type": "execute_result"
    }
   ],
   "source": [
    "df_valid = pd.DataFrame([])\n",
    "df_valid['dense1'] = predictions_dense1_valid\n",
    "df_valid['dense2'] = predictions_dense2_valid\n",
    "df_valid['dense3'] = predictions_dense3_valid\n",
    "df_valid['dense4'] = predictions_dense4_valid\n",
    "df_valid['dense5'] = predictions_dense5_valid\n",
    "\n",
    "# df_valid['effic'] = predictions_effic_valid\n",
    "\n",
    "df_valid['inception1'] = predictions_inception1_valid\n",
    "df_valid['inception2'] = predictions_inception2_valid\n",
    "df_valid['inception3'] = predictions_inception3_valid\n",
    "df_valid['inception4'] = predictions_inception4_valid\n",
    "df_valid['inception5'] = predictions_inception5_valid\n",
    "\n",
    "df_valid['rsnt1'] = predictions_rsnt1_valid\n",
    "df_valid['rsnt2'] = predictions_rsnt2_valid\n",
    "df_valid['rsnt3'] = predictions_rsnt3_valid\n",
    "df_valid['rsnt4'] = predictions_rsnt4_valid\n",
    "df_valid['rsnt5'] = predictions_rsnt5_valid\n",
    "\n",
    "df_valid.head()"
   ]
  },
  {
   "cell_type": "code",
   "execution_count": 76,
   "id": "307d4e8d",
   "metadata": {
    "execution": {
     "iopub.execute_input": "2023-04-07T18:05:30.287371Z",
     "iopub.status.busy": "2023-04-07T18:05:30.286637Z",
     "iopub.status.idle": "2023-04-07T18:05:32.424705Z",
     "shell.execute_reply": "2023-04-07T18:05:32.423638Z"
    },
    "papermill": {
     "duration": 2.418139,
     "end_time": "2023-04-07T18:05:32.427041",
     "exception": false,
     "start_time": "2023-04-07T18:05:30.008902",
     "status": "completed"
    },
    "tags": []
   },
   "outputs": [
    {
     "data": {
      "text/html": [
       "<div>\n",
       "<style scoped>\n",
       "    .dataframe tbody tr th:only-of-type {\n",
       "        vertical-align: middle;\n",
       "    }\n",
       "\n",
       "    .dataframe tbody tr th {\n",
       "        vertical-align: top;\n",
       "    }\n",
       "\n",
       "    .dataframe thead th {\n",
       "        text-align: right;\n",
       "    }\n",
       "</style>\n",
       "<table border=\"1\" class=\"dataframe\">\n",
       "  <thead>\n",
       "    <tr style=\"text-align: right;\">\n",
       "      <th></th>\n",
       "      <th>0</th>\n",
       "      <th>1</th>\n",
       "      <th>2</th>\n",
       "    </tr>\n",
       "  </thead>\n",
       "  <tbody>\n",
       "    <tr>\n",
       "      <th>0</th>\n",
       "      <td>0.0</td>\n",
       "      <td>NaN</td>\n",
       "      <td>NaN</td>\n",
       "    </tr>\n",
       "    <tr>\n",
       "      <th>1</th>\n",
       "      <td>0.0</td>\n",
       "      <td>NaN</td>\n",
       "      <td>NaN</td>\n",
       "    </tr>\n",
       "    <tr>\n",
       "      <th>2</th>\n",
       "      <td>0.0</td>\n",
       "      <td>NaN</td>\n",
       "      <td>NaN</td>\n",
       "    </tr>\n",
       "    <tr>\n",
       "      <th>3</th>\n",
       "      <td>0.0</td>\n",
       "      <td>NaN</td>\n",
       "      <td>NaN</td>\n",
       "    </tr>\n",
       "    <tr>\n",
       "      <th>4</th>\n",
       "      <td>0.0</td>\n",
       "      <td>NaN</td>\n",
       "      <td>NaN</td>\n",
       "    </tr>\n",
       "  </tbody>\n",
       "</table>\n",
       "</div>"
      ],
      "text/plain": [
       "     0   1   2\n",
       "0  0.0 NaN NaN\n",
       "1  0.0 NaN NaN\n",
       "2  0.0 NaN NaN\n",
       "3  0.0 NaN NaN\n",
       "4  0.0 NaN NaN"
      ]
     },
     "execution_count": 76,
     "metadata": {},
     "output_type": "execute_result"
    }
   ],
   "source": [
    "df_temp = df_valid.mode(axis = 'columns')\n",
    "df_temp.head()"
   ]
  },
  {
   "cell_type": "code",
   "execution_count": 77,
   "id": "344346d2",
   "metadata": {
    "execution": {
     "iopub.execute_input": "2023-04-07T18:05:33.009652Z",
     "iopub.status.busy": "2023-04-07T18:05:33.008580Z",
     "iopub.status.idle": "2023-04-07T18:05:33.017382Z",
     "shell.execute_reply": "2023-04-07T18:05:33.016219Z"
    },
    "papermill": {
     "duration": 0.323605,
     "end_time": "2023-04-07T18:05:33.019738",
     "exception": false,
     "start_time": "2023-04-07T18:05:32.696133",
     "status": "completed"
    },
    "tags": []
   },
   "outputs": [
    {
     "data": {
      "text/plain": [
       "0    0.0\n",
       "1    0.0\n",
       "2    0.0\n",
       "3    0.0\n",
       "4    0.0\n",
       "Name: 0, dtype: float64"
      ]
     },
     "execution_count": 77,
     "metadata": {},
     "output_type": "execute_result"
    }
   ],
   "source": [
    "df_temp = df_temp[0]\n",
    "df_temp.head()"
   ]
  },
  {
   "cell_type": "code",
   "execution_count": 78,
   "id": "c7b37f1e",
   "metadata": {
    "execution": {
     "iopub.execute_input": "2023-04-07T18:05:33.554764Z",
     "iopub.status.busy": "2023-04-07T18:05:33.553721Z",
     "iopub.status.idle": "2023-04-07T18:05:33.566500Z",
     "shell.execute_reply": "2023-04-07T18:05:33.565430Z"
    },
    "papermill": {
     "duration": 0.2786,
     "end_time": "2023-04-07T18:05:33.568869",
     "exception": false,
     "start_time": "2023-04-07T18:05:33.290269",
     "status": "completed"
    },
    "tags": []
   },
   "outputs": [
    {
     "data": {
      "text/html": [
       "<div>\n",
       "<style scoped>\n",
       "    .dataframe tbody tr th:only-of-type {\n",
       "        vertical-align: middle;\n",
       "    }\n",
       "\n",
       "    .dataframe tbody tr th {\n",
       "        vertical-align: top;\n",
       "    }\n",
       "\n",
       "    .dataframe thead th {\n",
       "        text-align: right;\n",
       "    }\n",
       "</style>\n",
       "<table border=\"1\" class=\"dataframe\">\n",
       "  <thead>\n",
       "    <tr style=\"text-align: right;\">\n",
       "      <th></th>\n",
       "      <th>0</th>\n",
       "    </tr>\n",
       "  </thead>\n",
       "  <tbody>\n",
       "    <tr>\n",
       "      <th>0</th>\n",
       "      <td>0.0</td>\n",
       "    </tr>\n",
       "    <tr>\n",
       "      <th>1</th>\n",
       "      <td>0.0</td>\n",
       "    </tr>\n",
       "    <tr>\n",
       "      <th>2</th>\n",
       "      <td>0.0</td>\n",
       "    </tr>\n",
       "    <tr>\n",
       "      <th>3</th>\n",
       "      <td>0.0</td>\n",
       "    </tr>\n",
       "    <tr>\n",
       "      <th>4</th>\n",
       "      <td>0.0</td>\n",
       "    </tr>\n",
       "    <tr>\n",
       "      <th>5</th>\n",
       "      <td>0.0</td>\n",
       "    </tr>\n",
       "    <tr>\n",
       "      <th>6</th>\n",
       "      <td>0.0</td>\n",
       "    </tr>\n",
       "    <tr>\n",
       "      <th>7</th>\n",
       "      <td>2.0</td>\n",
       "    </tr>\n",
       "    <tr>\n",
       "      <th>8</th>\n",
       "      <td>0.0</td>\n",
       "    </tr>\n",
       "    <tr>\n",
       "      <th>9</th>\n",
       "      <td>0.0</td>\n",
       "    </tr>\n",
       "    <tr>\n",
       "      <th>10</th>\n",
       "      <td>0.0</td>\n",
       "    </tr>\n",
       "    <tr>\n",
       "      <th>11</th>\n",
       "      <td>0.0</td>\n",
       "    </tr>\n",
       "    <tr>\n",
       "      <th>12</th>\n",
       "      <td>2.0</td>\n",
       "    </tr>\n",
       "    <tr>\n",
       "      <th>13</th>\n",
       "      <td>0.0</td>\n",
       "    </tr>\n",
       "    <tr>\n",
       "      <th>14</th>\n",
       "      <td>0.0</td>\n",
       "    </tr>\n",
       "    <tr>\n",
       "      <th>15</th>\n",
       "      <td>0.0</td>\n",
       "    </tr>\n",
       "    <tr>\n",
       "      <th>16</th>\n",
       "      <td>0.0</td>\n",
       "    </tr>\n",
       "    <tr>\n",
       "      <th>17</th>\n",
       "      <td>0.0</td>\n",
       "    </tr>\n",
       "    <tr>\n",
       "      <th>18</th>\n",
       "      <td>0.0</td>\n",
       "    </tr>\n",
       "    <tr>\n",
       "      <th>19</th>\n",
       "      <td>0.0</td>\n",
       "    </tr>\n",
       "    <tr>\n",
       "      <th>20</th>\n",
       "      <td>0.0</td>\n",
       "    </tr>\n",
       "    <tr>\n",
       "      <th>21</th>\n",
       "      <td>0.0</td>\n",
       "    </tr>\n",
       "    <tr>\n",
       "      <th>22</th>\n",
       "      <td>2.0</td>\n",
       "    </tr>\n",
       "    <tr>\n",
       "      <th>23</th>\n",
       "      <td>0.0</td>\n",
       "    </tr>\n",
       "    <tr>\n",
       "      <th>24</th>\n",
       "      <td>0.0</td>\n",
       "    </tr>\n",
       "  </tbody>\n",
       "</table>\n",
       "</div>"
      ],
      "text/plain": [
       "      0\n",
       "0   0.0\n",
       "1   0.0\n",
       "2   0.0\n",
       "3   0.0\n",
       "4   0.0\n",
       "5   0.0\n",
       "6   0.0\n",
       "7   2.0\n",
       "8   0.0\n",
       "9   0.0\n",
       "10  0.0\n",
       "11  0.0\n",
       "12  2.0\n",
       "13  0.0\n",
       "14  0.0\n",
       "15  0.0\n",
       "16  0.0\n",
       "17  0.0\n",
       "18  0.0\n",
       "19  0.0\n",
       "20  0.0\n",
       "21  0.0\n",
       "22  2.0\n",
       "23  0.0\n",
       "24  0.0"
      ]
     },
     "execution_count": 78,
     "metadata": {},
     "output_type": "execute_result"
    }
   ],
   "source": [
    "df_vv = pd.DataFrame(df_temp)\n",
    "df_vv.head(25)"
   ]
  },
  {
   "cell_type": "code",
   "execution_count": 79,
   "id": "ef06f354",
   "metadata": {
    "execution": {
     "iopub.execute_input": "2023-04-07T18:05:34.108570Z",
     "iopub.status.busy": "2023-04-07T18:05:34.106660Z",
     "iopub.status.idle": "2023-04-07T18:05:34.122933Z",
     "shell.execute_reply": "2023-04-07T18:05:34.121781Z"
    },
    "papermill": {
     "duration": 0.287634,
     "end_time": "2023-04-07T18:05:34.125144",
     "exception": false,
     "start_time": "2023-04-07T18:05:33.837510",
     "status": "completed"
    },
    "tags": []
   },
   "outputs": [
    {
     "data": {
      "text/plain": [
       "0.0    5679\n",
       "2.0     886\n",
       "1.0       4\n",
       "dtype: int64"
      ]
     },
     "execution_count": 79,
     "metadata": {},
     "output_type": "execute_result"
    }
   ],
   "source": [
    "df_vv.value_counts()"
   ]
  },
  {
   "cell_type": "code",
   "execution_count": 80,
   "id": "5f9cf8bb",
   "metadata": {
    "execution": {
     "iopub.execute_input": "2023-04-07T18:05:34.715308Z",
     "iopub.status.busy": "2023-04-07T18:05:34.714909Z",
     "iopub.status.idle": "2023-04-07T18:05:34.723441Z",
     "shell.execute_reply": "2023-04-07T18:05:34.722416Z"
    },
    "papermill": {
     "duration": 0.275812,
     "end_time": "2023-04-07T18:05:34.725769",
     "exception": false,
     "start_time": "2023-04-07T18:05:34.449957",
     "status": "completed"
    },
    "tags": []
   },
   "outputs": [
    {
     "data": {
      "text/plain": [
       "array([0., 2., 1.])"
      ]
     },
     "execution_count": 80,
     "metadata": {},
     "output_type": "execute_result"
    }
   ],
   "source": [
    "df_vv[0].unique()"
   ]
  },
  {
   "cell_type": "code",
   "execution_count": 81,
   "id": "52ec21b5",
   "metadata": {
    "execution": {
     "iopub.execute_input": "2023-04-07T18:05:35.257073Z",
     "iopub.status.busy": "2023-04-07T18:05:35.255939Z",
     "iopub.status.idle": "2023-04-07T18:05:35.265933Z",
     "shell.execute_reply": "2023-04-07T18:05:35.264838Z"
    },
    "papermill": {
     "duration": 0.277932,
     "end_time": "2023-04-07T18:05:35.268035",
     "exception": false,
     "start_time": "2023-04-07T18:05:34.990103",
     "status": "completed"
    },
    "tags": []
   },
   "outputs": [
    {
     "data": {
      "text/html": [
       "<div>\n",
       "<style scoped>\n",
       "    .dataframe tbody tr th:only-of-type {\n",
       "        vertical-align: middle;\n",
       "    }\n",
       "\n",
       "    .dataframe tbody tr th {\n",
       "        vertical-align: top;\n",
       "    }\n",
       "\n",
       "    .dataframe thead th {\n",
       "        text-align: right;\n",
       "    }\n",
       "</style>\n",
       "<table border=\"1\" class=\"dataframe\">\n",
       "  <thead>\n",
       "    <tr style=\"text-align: right;\">\n",
       "      <th></th>\n",
       "      <th>ID</th>\n",
       "      <th>Class</th>\n",
       "    </tr>\n",
       "  </thead>\n",
       "  <tbody>\n",
       "    <tr>\n",
       "      <th>15394</th>\n",
       "      <td>9384.jpg</td>\n",
       "      <td>0</td>\n",
       "    </tr>\n",
       "    <tr>\n",
       "      <th>17014</th>\n",
       "      <td>23865.jpg</td>\n",
       "      <td>0</td>\n",
       "    </tr>\n",
       "    <tr>\n",
       "      <th>19664</th>\n",
       "      <td>12855.jpg</td>\n",
       "      <td>0</td>\n",
       "    </tr>\n",
       "    <tr>\n",
       "      <th>18668</th>\n",
       "      <td>7151.jpg</td>\n",
       "      <td>0</td>\n",
       "    </tr>\n",
       "    <tr>\n",
       "      <th>16251</th>\n",
       "      <td>15155.jpg</td>\n",
       "      <td>2</td>\n",
       "    </tr>\n",
       "  </tbody>\n",
       "</table>\n",
       "</div>"
      ],
      "text/plain": [
       "              ID  Class\n",
       "15394   9384.jpg      0\n",
       "17014  23865.jpg      0\n",
       "19664  12855.jpg      0\n",
       "18668   7151.jpg      0\n",
       "16251  15155.jpg      2"
      ]
     },
     "execution_count": 81,
     "metadata": {},
     "output_type": "execute_result"
    }
   ],
   "source": [
    "train_csv_valid.head()"
   ]
  },
  {
   "cell_type": "code",
   "execution_count": 82,
   "id": "628fff6e",
   "metadata": {
    "execution": {
     "iopub.execute_input": "2023-04-07T18:05:35.797964Z",
     "iopub.status.busy": "2023-04-07T18:05:35.797092Z",
     "iopub.status.idle": "2023-04-07T18:05:35.805388Z",
     "shell.execute_reply": "2023-04-07T18:05:35.804123Z"
    },
    "papermill": {
     "duration": 0.276231,
     "end_time": "2023-04-07T18:05:35.807669",
     "exception": false,
     "start_time": "2023-04-07T18:05:35.531438",
     "status": "completed"
    },
    "tags": []
   },
   "outputs": [
    {
     "name": "stdout",
     "output_type": "stream",
     "text": [
      "0.5232151012330644\n"
     ]
    }
   ],
   "source": [
    "from sklearn.metrics import accuracy_score\n",
    "score = accuracy_score(df_vv, train_csv_valid['Class'])\n",
    "print(score)"
   ]
  },
  {
   "cell_type": "code",
   "execution_count": 83,
   "id": "017305e7",
   "metadata": {
    "execution": {
     "iopub.execute_input": "2023-04-07T18:05:36.394087Z",
     "iopub.status.busy": "2023-04-07T18:05:36.392985Z",
     "iopub.status.idle": "2023-04-07T18:05:36.398129Z",
     "shell.execute_reply": "2023-04-07T18:05:36.397190Z"
    },
    "papermill": {
     "duration": 0.274571,
     "end_time": "2023-04-07T18:05:36.400077",
     "exception": false,
     "start_time": "2023-04-07T18:05:36.125506",
     "status": "completed"
    },
    "tags": []
   },
   "outputs": [],
   "source": [
    "# Stratified K-fold max voting ensembling: 0.544\n",
    "# Stratified K-fold ensemble averaging: 0.538\n",
    "\n",
    "# Stratified K-fold max voting ensembling: 0.506\n",
    "# Stratified K-fold ensemble averaging: 0.5022\n",
    "\n",
    "# Stratified K-fold max voting ensembling: 0.517\n",
    "# Stratified K-fold ensemble averaging: 0.517"
   ]
  },
  {
   "cell_type": "markdown",
   "id": "f3e53a56",
   "metadata": {
    "papermill": {
     "duration": 0.278388,
     "end_time": "2023-04-07T18:05:36.944826",
     "exception": false,
     "start_time": "2023-04-07T18:05:36.666438",
     "status": "completed"
    },
    "tags": []
   },
   "source": [
    "### Ensemble Averaging "
   ]
  },
  {
   "cell_type": "code",
   "execution_count": 84,
   "id": "c6c40186",
   "metadata": {
    "execution": {
     "iopub.execute_input": "2023-04-07T18:05:37.593906Z",
     "iopub.status.busy": "2023-04-07T18:05:37.593528Z",
     "iopub.status.idle": "2023-04-07T18:06:56.850784Z",
     "shell.execute_reply": "2023-04-07T18:06:56.849708Z"
    },
    "papermill": {
     "duration": 79.597149,
     "end_time": "2023-04-07T18:06:56.853364",
     "exception": false,
     "start_time": "2023-04-07T18:05:37.256215",
     "status": "completed"
    },
    "tags": []
   },
   "outputs": [
    {
     "name": "stdout",
     "output_type": "stream",
     "text": [
      "206/206 [==============================] - 14s 70ms/step\n",
      "206/206 [==============================] - 15s 72ms/step\n",
      "206/206 [==============================] - 15s 74ms/step\n",
      "206/206 [==============================] - 16s 76ms/step\n",
      "206/206 [==============================] - 18s 85ms/step\n"
     ]
    }
   ],
   "source": [
    "pr_dense1 = dense_model_1.predict(validation_set)\n",
    "df_pr_dense1 = pd.DataFrame(pr_dense1)\n",
    "# df_pr_dense1.head()\n",
    "pr_dense2 = dense_model_2.predict(validation_set)\n",
    "df_pr_dense2 = pd.DataFrame(pr_dense2)\n",
    "\n",
    "pr_dense3 = dense_model_3.predict(validation_set)\n",
    "df_pr_dense3 = pd.DataFrame(pr_dense3)\n",
    "\n",
    "pr_dense4 = dense_model_4.predict(validation_set)\n",
    "df_pr_dense4 = pd.DataFrame(pr_dense4)\n",
    "\n",
    "pr_dense5 = dense_model_5.predict(validation_set)\n",
    "df_pr_dense5 = pd.DataFrame(pr_dense5)"
   ]
  },
  {
   "cell_type": "code",
   "execution_count": 85,
   "id": "e3fedaa2",
   "metadata": {
    "execution": {
     "iopub.execute_input": "2023-04-07T18:06:57.560113Z",
     "iopub.status.busy": "2023-04-07T18:06:57.559063Z",
     "iopub.status.idle": "2023-04-07T18:06:57.563897Z",
     "shell.execute_reply": "2023-04-07T18:06:57.562870Z"
    },
    "papermill": {
     "duration": 0.391998,
     "end_time": "2023-04-07T18:06:57.566109",
     "exception": false,
     "start_time": "2023-04-07T18:06:57.174111",
     "status": "completed"
    },
    "tags": []
   },
   "outputs": [],
   "source": [
    "# pr_effic = effic_model.predict(validation_set)\n",
    "# df_pr_effic = pd.DataFrame(pr_effic)\n",
    "# df_pr_effic.head()"
   ]
  },
  {
   "cell_type": "code",
   "execution_count": 86,
   "id": "f8cb43c3",
   "metadata": {
    "execution": {
     "iopub.execute_input": "2023-04-07T18:06:58.209267Z",
     "iopub.status.busy": "2023-04-07T18:06:58.208869Z",
     "iopub.status.idle": "2023-04-07T18:08:17.413211Z",
     "shell.execute_reply": "2023-04-07T18:08:17.412078Z"
    },
    "papermill": {
     "duration": 79.530412,
     "end_time": "2023-04-07T18:08:17.415818",
     "exception": false,
     "start_time": "2023-04-07T18:06:57.885406",
     "status": "completed"
    },
    "tags": []
   },
   "outputs": [
    {
     "name": "stdout",
     "output_type": "stream",
     "text": [
      "206/206 [==============================] - 15s 72ms/step\n",
      "206/206 [==============================] - 15s 71ms/step\n",
      "206/206 [==============================] - 15s 72ms/step\n",
      "206/206 [==============================] - 14s 68ms/step\n",
      "206/206 [==============================] - 14s 68ms/step\n"
     ]
    }
   ],
   "source": [
    "pr_inception1 = inception_model_1.predict(validation_set)\n",
    "df_pr_inception1 = pd.DataFrame(pr_inception1)\n",
    "# df_pr_inception.head()\n",
    "pr_inception2 = inception_model_2.predict(validation_set)\n",
    "df_pr_inception2 = pd.DataFrame(pr_inception2)\n",
    "\n",
    "pr_inception3 = inception_model_3.predict(validation_set)\n",
    "df_pr_inception3 = pd.DataFrame(pr_inception3)\n",
    "\n",
    "pr_inception4 = inception_model_4.predict(validation_set)\n",
    "df_pr_inception4 = pd.DataFrame(pr_inception4)\n",
    "\n",
    "pr_inception5 = inception_model_5.predict(validation_set)\n",
    "df_pr_inception5 = pd.DataFrame(pr_inception5)"
   ]
  },
  {
   "cell_type": "code",
   "execution_count": 87,
   "id": "49eeebda",
   "metadata": {
    "execution": {
     "iopub.execute_input": "2023-04-07T18:08:18.169960Z",
     "iopub.status.busy": "2023-04-07T18:08:18.169573Z",
     "iopub.status.idle": "2023-04-07T18:09:37.396194Z",
     "shell.execute_reply": "2023-04-07T18:09:37.395124Z"
    },
    "papermill": {
     "duration": 79.605351,
     "end_time": "2023-04-07T18:09:37.398857",
     "exception": false,
     "start_time": "2023-04-07T18:08:17.793506",
     "status": "completed"
    },
    "tags": []
   },
   "outputs": [
    {
     "name": "stdout",
     "output_type": "stream",
     "text": [
      "206/206 [==============================] - 16s 75ms/step\n",
      "206/206 [==============================] - 15s 74ms/step\n",
      "206/206 [==============================] - 17s 84ms/step\n",
      "206/206 [==============================] - 15s 75ms/step\n",
      "206/206 [==============================] - 15s 71ms/step\n"
     ]
    }
   ],
   "source": [
    "pr_rsnt1 = rsnt_model_1.predict(validation_set)\n",
    "df_pr_rsnt1 = pd.DataFrame(pr_rsnt1)\n",
    "# df_pr_rsnt.head()\n",
    "pr_rsnt2 = rsnt_model_2.predict(validation_set)\n",
    "df_pr_rsnt2 = pd.DataFrame(pr_rsnt2)\n",
    "\n",
    "pr_rsnt3 = rsnt_model_3.predict(validation_set)\n",
    "df_pr_rsnt3 = pd.DataFrame(pr_rsnt3)\n",
    "\n",
    "pr_rsnt4 = rsnt_model_4.predict(validation_set)\n",
    "df_pr_rsnt4 = pd.DataFrame(pr_rsnt4)\n",
    "\n",
    "pr_rsnt5 = rsnt_model_5.predict(validation_set)\n",
    "df_pr_rsnt5 = pd.DataFrame(pr_rsnt5)"
   ]
  },
  {
   "cell_type": "code",
   "execution_count": 88,
   "id": "ab2edad7",
   "metadata": {
    "execution": {
     "iopub.execute_input": "2023-04-07T18:09:38.260226Z",
     "iopub.status.busy": "2023-04-07T18:09:38.259837Z",
     "iopub.status.idle": "2023-04-07T18:09:38.293482Z",
     "shell.execute_reply": "2023-04-07T18:09:38.292389Z"
    },
    "papermill": {
     "duration": 0.465233,
     "end_time": "2023-04-07T18:09:38.295675",
     "exception": false,
     "start_time": "2023-04-07T18:09:37.830442",
     "status": "completed"
    },
    "tags": []
   },
   "outputs": [
    {
     "data": {
      "text/html": [
       "<div>\n",
       "<style scoped>\n",
       "    .dataframe tbody tr th:only-of-type {\n",
       "        vertical-align: middle;\n",
       "    }\n",
       "\n",
       "    .dataframe tbody tr th {\n",
       "        vertical-align: top;\n",
       "    }\n",
       "\n",
       "    .dataframe thead th {\n",
       "        text-align: right;\n",
       "    }\n",
       "</style>\n",
       "<table border=\"1\" class=\"dataframe\">\n",
       "  <thead>\n",
       "    <tr style=\"text-align: right;\">\n",
       "      <th></th>\n",
       "      <th>dense_0_1</th>\n",
       "      <th>dense_0_2</th>\n",
       "      <th>dense_0_3</th>\n",
       "      <th>dense_0_4</th>\n",
       "      <th>dense_0_5</th>\n",
       "      <th>inception_0_1</th>\n",
       "      <th>inception_0_2</th>\n",
       "      <th>inception_0_3</th>\n",
       "      <th>inception_0_4</th>\n",
       "      <th>inception_0_5</th>\n",
       "      <th>rsnt_0_1</th>\n",
       "      <th>rsnt_0_2</th>\n",
       "      <th>rsnt_0_3</th>\n",
       "      <th>rsnt_0_4</th>\n",
       "      <th>rsnt_0_5</th>\n",
       "      <th>mean</th>\n",
       "    </tr>\n",
       "  </thead>\n",
       "  <tbody>\n",
       "    <tr>\n",
       "      <th>0</th>\n",
       "      <td>0.979371</td>\n",
       "      <td>0.530836</td>\n",
       "      <td>0.951885</td>\n",
       "      <td>1.000000</td>\n",
       "      <td>0.000091</td>\n",
       "      <td>0.021257</td>\n",
       "      <td>0.113036</td>\n",
       "      <td>0.191226</td>\n",
       "      <td>0.939342</td>\n",
       "      <td>0.987652</td>\n",
       "      <td>0.999695</td>\n",
       "      <td>0.750822</td>\n",
       "      <td>0.949977</td>\n",
       "      <td>0.999966</td>\n",
       "      <td>0.995552</td>\n",
       "      <td>0.694047</td>\n",
       "    </tr>\n",
       "    <tr>\n",
       "      <th>1</th>\n",
       "      <td>1.000000</td>\n",
       "      <td>1.000000</td>\n",
       "      <td>0.909598</td>\n",
       "      <td>0.635319</td>\n",
       "      <td>0.833679</td>\n",
       "      <td>0.999695</td>\n",
       "      <td>0.000211</td>\n",
       "      <td>0.999975</td>\n",
       "      <td>0.130379</td>\n",
       "      <td>0.999844</td>\n",
       "      <td>0.997968</td>\n",
       "      <td>0.083821</td>\n",
       "      <td>0.998042</td>\n",
       "      <td>0.922725</td>\n",
       "      <td>0.981492</td>\n",
       "      <td>0.766183</td>\n",
       "    </tr>\n",
       "    <tr>\n",
       "      <th>2</th>\n",
       "      <td>0.979839</td>\n",
       "      <td>0.002949</td>\n",
       "      <td>0.679365</td>\n",
       "      <td>0.968173</td>\n",
       "      <td>0.995512</td>\n",
       "      <td>0.866677</td>\n",
       "      <td>0.813809</td>\n",
       "      <td>0.849490</td>\n",
       "      <td>0.031365</td>\n",
       "      <td>0.110524</td>\n",
       "      <td>0.998118</td>\n",
       "      <td>0.015384</td>\n",
       "      <td>0.953505</td>\n",
       "      <td>0.982528</td>\n",
       "      <td>0.009787</td>\n",
       "      <td>0.617135</td>\n",
       "    </tr>\n",
       "    <tr>\n",
       "      <th>3</th>\n",
       "      <td>0.971502</td>\n",
       "      <td>0.003731</td>\n",
       "      <td>0.973913</td>\n",
       "      <td>0.463900</td>\n",
       "      <td>0.484981</td>\n",
       "      <td>0.982328</td>\n",
       "      <td>0.999857</td>\n",
       "      <td>0.854557</td>\n",
       "      <td>0.004659</td>\n",
       "      <td>0.965158</td>\n",
       "      <td>0.999942</td>\n",
       "      <td>0.816914</td>\n",
       "      <td>0.999789</td>\n",
       "      <td>0.787538</td>\n",
       "      <td>0.000232</td>\n",
       "      <td>0.687267</td>\n",
       "    </tr>\n",
       "    <tr>\n",
       "      <th>4</th>\n",
       "      <td>0.393598</td>\n",
       "      <td>0.818612</td>\n",
       "      <td>0.000014</td>\n",
       "      <td>0.995704</td>\n",
       "      <td>1.000000</td>\n",
       "      <td>0.965046</td>\n",
       "      <td>0.897951</td>\n",
       "      <td>0.000276</td>\n",
       "      <td>0.999464</td>\n",
       "      <td>0.024874</td>\n",
       "      <td>0.000019</td>\n",
       "      <td>0.000544</td>\n",
       "      <td>0.001180</td>\n",
       "      <td>0.658464</td>\n",
       "      <td>0.005378</td>\n",
       "      <td>0.450742</td>\n",
       "    </tr>\n",
       "  </tbody>\n",
       "</table>\n",
       "</div>"
      ],
      "text/plain": [
       "   dense_0_1  dense_0_2  dense_0_3  dense_0_4  dense_0_5  inception_0_1  \\\n",
       "0   0.979371   0.530836   0.951885   1.000000   0.000091       0.021257   \n",
       "1   1.000000   1.000000   0.909598   0.635319   0.833679       0.999695   \n",
       "2   0.979839   0.002949   0.679365   0.968173   0.995512       0.866677   \n",
       "3   0.971502   0.003731   0.973913   0.463900   0.484981       0.982328   \n",
       "4   0.393598   0.818612   0.000014   0.995704   1.000000       0.965046   \n",
       "\n",
       "   inception_0_2  inception_0_3  inception_0_4  inception_0_5  rsnt_0_1  \\\n",
       "0       0.113036       0.191226       0.939342       0.987652  0.999695   \n",
       "1       0.000211       0.999975       0.130379       0.999844  0.997968   \n",
       "2       0.813809       0.849490       0.031365       0.110524  0.998118   \n",
       "3       0.999857       0.854557       0.004659       0.965158  0.999942   \n",
       "4       0.897951       0.000276       0.999464       0.024874  0.000019   \n",
       "\n",
       "   rsnt_0_2  rsnt_0_3  rsnt_0_4  rsnt_0_5      mean  \n",
       "0  0.750822  0.949977  0.999966  0.995552  0.694047  \n",
       "1  0.083821  0.998042  0.922725  0.981492  0.766183  \n",
       "2  0.015384  0.953505  0.982528  0.009787  0.617135  \n",
       "3  0.816914  0.999789  0.787538  0.000232  0.687267  \n",
       "4  0.000544  0.001180  0.658464  0.005378  0.450742  "
      ]
     },
     "execution_count": 88,
     "metadata": {},
     "output_type": "execute_result"
    }
   ],
   "source": [
    "df_0 = pd.DataFrame()\n",
    "df_0['dense_0_1'] = df_pr_dense1[0]\n",
    "df_0['dense_0_2'] = df_pr_dense2[0]\n",
    "df_0['dense_0_3'] = df_pr_dense3[0]\n",
    "df_0['dense_0_4'] = df_pr_dense4[0]\n",
    "df_0['dense_0_5'] = df_pr_dense5[0]\n",
    "# df_0['effic_0'] = df_pr_effic[0]\n",
    "\n",
    "df_0['inception_0_1'] = df_pr_inception1[0]\n",
    "df_0['inception_0_2'] = df_pr_inception2[0]\n",
    "df_0['inception_0_3'] = df_pr_inception3[0]\n",
    "df_0['inception_0_4'] = df_pr_inception4[0]\n",
    "df_0['inception_0_5'] = df_pr_inception5[0]\n",
    "\n",
    "df_0['rsnt_0_1'] = df_pr_rsnt1[0]\n",
    "df_0['rsnt_0_2'] = df_pr_rsnt2[0]\n",
    "df_0['rsnt_0_3'] = df_pr_rsnt3[0]\n",
    "df_0['rsnt_0_4'] = df_pr_rsnt4[0]\n",
    "df_0['rsnt_0_5'] = df_pr_rsnt5[0]\n",
    "\n",
    "df_0['mean'] = df_0.mean(axis = 1)\n",
    "df_0.head()"
   ]
  },
  {
   "cell_type": "code",
   "execution_count": 89,
   "id": "670b6117",
   "metadata": {
    "execution": {
     "iopub.execute_input": "2023-04-07T18:09:39.213912Z",
     "iopub.status.busy": "2023-04-07T18:09:39.213540Z",
     "iopub.status.idle": "2023-04-07T18:09:39.246184Z",
     "shell.execute_reply": "2023-04-07T18:09:39.245145Z"
    },
    "papermill": {
     "duration": 0.467718,
     "end_time": "2023-04-07T18:09:39.248361",
     "exception": false,
     "start_time": "2023-04-07T18:09:38.780643",
     "status": "completed"
    },
    "tags": []
   },
   "outputs": [
    {
     "data": {
      "text/html": [
       "<div>\n",
       "<style scoped>\n",
       "    .dataframe tbody tr th:only-of-type {\n",
       "        vertical-align: middle;\n",
       "    }\n",
       "\n",
       "    .dataframe tbody tr th {\n",
       "        vertical-align: top;\n",
       "    }\n",
       "\n",
       "    .dataframe thead th {\n",
       "        text-align: right;\n",
       "    }\n",
       "</style>\n",
       "<table border=\"1\" class=\"dataframe\">\n",
       "  <thead>\n",
       "    <tr style=\"text-align: right;\">\n",
       "      <th></th>\n",
       "      <th>dense_1_1</th>\n",
       "      <th>dense_1_2</th>\n",
       "      <th>dense_1_3</th>\n",
       "      <th>dense_1_4</th>\n",
       "      <th>dense_1_5</th>\n",
       "      <th>inception_1_1</th>\n",
       "      <th>inception_1_2</th>\n",
       "      <th>inception_1_3</th>\n",
       "      <th>inception_1_4</th>\n",
       "      <th>inception_1_5</th>\n",
       "      <th>rsnt_1_1</th>\n",
       "      <th>rsnt_1_2</th>\n",
       "      <th>rsnt_1_3</th>\n",
       "      <th>rsnt_1_4</th>\n",
       "      <th>rsnt_1_5</th>\n",
       "      <th>mean</th>\n",
       "    </tr>\n",
       "  </thead>\n",
       "  <tbody>\n",
       "    <tr>\n",
       "      <th>0</th>\n",
       "      <td>0.007660</td>\n",
       "      <td>1.831592e-01</td>\n",
       "      <td>5.475913e-03</td>\n",
       "      <td>7.210887e-18</td>\n",
       "      <td>1.395563e-09</td>\n",
       "      <td>0.000812</td>\n",
       "      <td>1.710898e-03</td>\n",
       "      <td>6.520163e-01</td>\n",
       "      <td>0.001943</td>\n",
       "      <td>0.009186</td>\n",
       "      <td>2.741259e-04</td>\n",
       "      <td>0.074903</td>\n",
       "      <td>4.329119e-03</td>\n",
       "      <td>0.000006</td>\n",
       "      <td>1.512648e-04</td>\n",
       "      <td>0.062775</td>\n",
       "    </tr>\n",
       "    <tr>\n",
       "      <th>1</th>\n",
       "      <td>0.000000</td>\n",
       "      <td>0.000000e+00</td>\n",
       "      <td>4.104149e-02</td>\n",
       "      <td>1.888564e-01</td>\n",
       "      <td>6.852714e-02</td>\n",
       "      <td>0.000242</td>\n",
       "      <td>6.692578e-09</td>\n",
       "      <td>8.955997e-07</td>\n",
       "      <td>0.010826</td>\n",
       "      <td>0.000084</td>\n",
       "      <td>6.516960e-05</td>\n",
       "      <td>0.000401</td>\n",
       "      <td>1.015938e-03</td>\n",
       "      <td>0.053475</td>\n",
       "      <td>2.845262e-03</td>\n",
       "      <td>0.024492</td>\n",
       "    </tr>\n",
       "    <tr>\n",
       "      <th>2</th>\n",
       "      <td>0.013214</td>\n",
       "      <td>1.472588e-07</td>\n",
       "      <td>2.178137e-01</td>\n",
       "      <td>1.467238e-02</td>\n",
       "      <td>5.533468e-04</td>\n",
       "      <td>0.002935</td>\n",
       "      <td>1.852457e-01</td>\n",
       "      <td>5.950131e-02</td>\n",
       "      <td>0.966269</td>\n",
       "      <td>0.885549</td>\n",
       "      <td>1.580252e-03</td>\n",
       "      <td>0.000157</td>\n",
       "      <td>1.449056e-02</td>\n",
       "      <td>0.000657</td>\n",
       "      <td>2.449377e-05</td>\n",
       "      <td>0.157511</td>\n",
       "    </tr>\n",
       "    <tr>\n",
       "      <th>3</th>\n",
       "      <td>0.014269</td>\n",
       "      <td>3.303362e-07</td>\n",
       "      <td>2.058949e-02</td>\n",
       "      <td>2.965990e-03</td>\n",
       "      <td>3.188119e-01</td>\n",
       "      <td>0.016291</td>\n",
       "      <td>2.900151e-06</td>\n",
       "      <td>5.367160e-02</td>\n",
       "      <td>0.000044</td>\n",
       "      <td>0.008266</td>\n",
       "      <td>3.765305e-06</td>\n",
       "      <td>0.058702</td>\n",
       "      <td>8.645965e-05</td>\n",
       "      <td>0.140501</td>\n",
       "      <td>2.320489e-09</td>\n",
       "      <td>0.042280</td>\n",
       "    </tr>\n",
       "    <tr>\n",
       "      <th>4</th>\n",
       "      <td>0.026536</td>\n",
       "      <td>1.904565e-02</td>\n",
       "      <td>3.104315e-11</td>\n",
       "      <td>4.024756e-03</td>\n",
       "      <td>3.021430e-11</td>\n",
       "      <td>0.017831</td>\n",
       "      <td>8.547399e-04</td>\n",
       "      <td>1.982998e-07</td>\n",
       "      <td>0.000017</td>\n",
       "      <td>0.000147</td>\n",
       "      <td>2.922979e-10</td>\n",
       "      <td>0.999446</td>\n",
       "      <td>2.140839e-08</td>\n",
       "      <td>0.176184</td>\n",
       "      <td>3.358542e-06</td>\n",
       "      <td>0.082939</td>\n",
       "    </tr>\n",
       "  </tbody>\n",
       "</table>\n",
       "</div>"
      ],
      "text/plain": [
       "   dense_1_1     dense_1_2     dense_1_3     dense_1_4     dense_1_5  \\\n",
       "0   0.007660  1.831592e-01  5.475913e-03  7.210887e-18  1.395563e-09   \n",
       "1   0.000000  0.000000e+00  4.104149e-02  1.888564e-01  6.852714e-02   \n",
       "2   0.013214  1.472588e-07  2.178137e-01  1.467238e-02  5.533468e-04   \n",
       "3   0.014269  3.303362e-07  2.058949e-02  2.965990e-03  3.188119e-01   \n",
       "4   0.026536  1.904565e-02  3.104315e-11  4.024756e-03  3.021430e-11   \n",
       "\n",
       "   inception_1_1  inception_1_2  inception_1_3  inception_1_4  inception_1_5  \\\n",
       "0       0.000812   1.710898e-03   6.520163e-01       0.001943       0.009186   \n",
       "1       0.000242   6.692578e-09   8.955997e-07       0.010826       0.000084   \n",
       "2       0.002935   1.852457e-01   5.950131e-02       0.966269       0.885549   \n",
       "3       0.016291   2.900151e-06   5.367160e-02       0.000044       0.008266   \n",
       "4       0.017831   8.547399e-04   1.982998e-07       0.000017       0.000147   \n",
       "\n",
       "       rsnt_1_1  rsnt_1_2      rsnt_1_3  rsnt_1_4      rsnt_1_5      mean  \n",
       "0  2.741259e-04  0.074903  4.329119e-03  0.000006  1.512648e-04  0.062775  \n",
       "1  6.516960e-05  0.000401  1.015938e-03  0.053475  2.845262e-03  0.024492  \n",
       "2  1.580252e-03  0.000157  1.449056e-02  0.000657  2.449377e-05  0.157511  \n",
       "3  3.765305e-06  0.058702  8.645965e-05  0.140501  2.320489e-09  0.042280  \n",
       "4  2.922979e-10  0.999446  2.140839e-08  0.176184  3.358542e-06  0.082939  "
      ]
     },
     "execution_count": 89,
     "metadata": {},
     "output_type": "execute_result"
    }
   ],
   "source": [
    "df_1 = pd.DataFrame()\n",
    "df_1['dense_1_1'] = df_pr_dense1[1]\n",
    "df_1['dense_1_2'] = df_pr_dense2[1]\n",
    "df_1['dense_1_3'] = df_pr_dense3[1]\n",
    "df_1['dense_1_4'] = df_pr_dense4[1]\n",
    "df_1['dense_1_5'] = df_pr_dense5[1]\n",
    "# df_0['effic_0'] = df_pr_effic[0]\n",
    "\n",
    "df_1['inception_1_1'] = df_pr_inception1[1]\n",
    "df_1['inception_1_2'] = df_pr_inception2[1]\n",
    "df_1['inception_1_3'] = df_pr_inception3[1]\n",
    "df_1['inception_1_4'] = df_pr_inception4[1]\n",
    "df_1['inception_1_5'] = df_pr_inception5[1]\n",
    "\n",
    "df_1['rsnt_1_1'] = df_pr_rsnt1[1]\n",
    "df_1['rsnt_1_2'] = df_pr_rsnt2[1]\n",
    "df_1['rsnt_1_3'] = df_pr_rsnt3[1]\n",
    "df_1['rsnt_1_4'] = df_pr_rsnt4[1]\n",
    "df_1['rsnt_1_5'] = df_pr_rsnt5[1]\n",
    "\n",
    "df_1['mean'] = df_1.mean(axis = 1)\n",
    "df_1.head()"
   ]
  },
  {
   "cell_type": "code",
   "execution_count": 90,
   "id": "4bc99af9",
   "metadata": {
    "execution": {
     "iopub.execute_input": "2023-04-07T18:09:40.262552Z",
     "iopub.status.busy": "2023-04-07T18:09:40.261709Z",
     "iopub.status.idle": "2023-04-07T18:09:40.324872Z",
     "shell.execute_reply": "2023-04-07T18:09:40.323681Z"
    },
    "papermill": {
     "duration": 0.650932,
     "end_time": "2023-04-07T18:09:40.328453",
     "exception": false,
     "start_time": "2023-04-07T18:09:39.677521",
     "status": "completed"
    },
    "tags": []
   },
   "outputs": [
    {
     "data": {
      "text/html": [
       "<div>\n",
       "<style scoped>\n",
       "    .dataframe tbody tr th:only-of-type {\n",
       "        vertical-align: middle;\n",
       "    }\n",
       "\n",
       "    .dataframe tbody tr th {\n",
       "        vertical-align: top;\n",
       "    }\n",
       "\n",
       "    .dataframe thead th {\n",
       "        text-align: right;\n",
       "    }\n",
       "</style>\n",
       "<table border=\"1\" class=\"dataframe\">\n",
       "  <thead>\n",
       "    <tr style=\"text-align: right;\">\n",
       "      <th></th>\n",
       "      <th>dense_2_1</th>\n",
       "      <th>dense_2_2</th>\n",
       "      <th>dense_2_3</th>\n",
       "      <th>dense_2_4</th>\n",
       "      <th>dense_2_5</th>\n",
       "      <th>inception_2_1</th>\n",
       "      <th>inception_2_2</th>\n",
       "      <th>inception_2_3</th>\n",
       "      <th>inception_2_4</th>\n",
       "      <th>inception_2_5</th>\n",
       "      <th>rsnt_2_1</th>\n",
       "      <th>rsnt_2_2</th>\n",
       "      <th>rsnt_2_3</th>\n",
       "      <th>rsnt_2_4</th>\n",
       "      <th>rsnt_2_5</th>\n",
       "      <th>mean</th>\n",
       "    </tr>\n",
       "  </thead>\n",
       "  <tbody>\n",
       "    <tr>\n",
       "      <th>0</th>\n",
       "      <td>0.012968</td>\n",
       "      <td>0.286005</td>\n",
       "      <td>0.042639</td>\n",
       "      <td>2.927835e-14</td>\n",
       "      <td>9.999093e-01</td>\n",
       "      <td>0.977930</td>\n",
       "      <td>0.885254</td>\n",
       "      <td>0.156758</td>\n",
       "      <td>0.058715</td>\n",
       "      <td>0.003162</td>\n",
       "      <td>0.000031</td>\n",
       "      <td>0.174275</td>\n",
       "      <td>0.045693</td>\n",
       "      <td>0.000028</td>\n",
       "      <td>0.004297</td>\n",
       "      <td>0.243178</td>\n",
       "    </tr>\n",
       "    <tr>\n",
       "      <th>1</th>\n",
       "      <td>0.000000</td>\n",
       "      <td>0.000000</td>\n",
       "      <td>0.049361</td>\n",
       "      <td>1.758242e-01</td>\n",
       "      <td>9.779395e-02</td>\n",
       "      <td>0.000062</td>\n",
       "      <td>0.999789</td>\n",
       "      <td>0.000024</td>\n",
       "      <td>0.858795</td>\n",
       "      <td>0.000072</td>\n",
       "      <td>0.001967</td>\n",
       "      <td>0.915778</td>\n",
       "      <td>0.000942</td>\n",
       "      <td>0.023800</td>\n",
       "      <td>0.015662</td>\n",
       "      <td>0.209325</td>\n",
       "    </tr>\n",
       "    <tr>\n",
       "      <th>2</th>\n",
       "      <td>0.006947</td>\n",
       "      <td>0.997051</td>\n",
       "      <td>0.102822</td>\n",
       "      <td>1.715449e-02</td>\n",
       "      <td>3.934662e-03</td>\n",
       "      <td>0.130388</td>\n",
       "      <td>0.000945</td>\n",
       "      <td>0.091009</td>\n",
       "      <td>0.002366</td>\n",
       "      <td>0.003927</td>\n",
       "      <td>0.000302</td>\n",
       "      <td>0.984459</td>\n",
       "      <td>0.032004</td>\n",
       "      <td>0.016815</td>\n",
       "      <td>0.990188</td>\n",
       "      <td>0.225354</td>\n",
       "    </tr>\n",
       "    <tr>\n",
       "      <th>3</th>\n",
       "      <td>0.014229</td>\n",
       "      <td>0.996269</td>\n",
       "      <td>0.005497</td>\n",
       "      <td>5.331338e-01</td>\n",
       "      <td>1.962069e-01</td>\n",
       "      <td>0.001380</td>\n",
       "      <td>0.000140</td>\n",
       "      <td>0.091771</td>\n",
       "      <td>0.995297</td>\n",
       "      <td>0.026576</td>\n",
       "      <td>0.000054</td>\n",
       "      <td>0.124384</td>\n",
       "      <td>0.000125</td>\n",
       "      <td>0.071961</td>\n",
       "      <td>0.999768</td>\n",
       "      <td>0.270453</td>\n",
       "    </tr>\n",
       "    <tr>\n",
       "      <th>4</th>\n",
       "      <td>0.579866</td>\n",
       "      <td>0.162343</td>\n",
       "      <td>0.999986</td>\n",
       "      <td>2.716996e-04</td>\n",
       "      <td>3.537598e-09</td>\n",
       "      <td>0.017123</td>\n",
       "      <td>0.101195</td>\n",
       "      <td>0.999724</td>\n",
       "      <td>0.000519</td>\n",
       "      <td>0.974979</td>\n",
       "      <td>0.999980</td>\n",
       "      <td>0.000009</td>\n",
       "      <td>0.998820</td>\n",
       "      <td>0.165352</td>\n",
       "      <td>0.994619</td>\n",
       "      <td>0.466319</td>\n",
       "    </tr>\n",
       "  </tbody>\n",
       "</table>\n",
       "</div>"
      ],
      "text/plain": [
       "   dense_2_1  dense_2_2  dense_2_3     dense_2_4     dense_2_5  inception_2_1  \\\n",
       "0   0.012968   0.286005   0.042639  2.927835e-14  9.999093e-01       0.977930   \n",
       "1   0.000000   0.000000   0.049361  1.758242e-01  9.779395e-02       0.000062   \n",
       "2   0.006947   0.997051   0.102822  1.715449e-02  3.934662e-03       0.130388   \n",
       "3   0.014229   0.996269   0.005497  5.331338e-01  1.962069e-01       0.001380   \n",
       "4   0.579866   0.162343   0.999986  2.716996e-04  3.537598e-09       0.017123   \n",
       "\n",
       "   inception_2_2  inception_2_3  inception_2_4  inception_2_5  rsnt_2_1  \\\n",
       "0       0.885254       0.156758       0.058715       0.003162  0.000031   \n",
       "1       0.999789       0.000024       0.858795       0.000072  0.001967   \n",
       "2       0.000945       0.091009       0.002366       0.003927  0.000302   \n",
       "3       0.000140       0.091771       0.995297       0.026576  0.000054   \n",
       "4       0.101195       0.999724       0.000519       0.974979  0.999980   \n",
       "\n",
       "   rsnt_2_2  rsnt_2_3  rsnt_2_4  rsnt_2_5      mean  \n",
       "0  0.174275  0.045693  0.000028  0.004297  0.243178  \n",
       "1  0.915778  0.000942  0.023800  0.015662  0.209325  \n",
       "2  0.984459  0.032004  0.016815  0.990188  0.225354  \n",
       "3  0.124384  0.000125  0.071961  0.999768  0.270453  \n",
       "4  0.000009  0.998820  0.165352  0.994619  0.466319  "
      ]
     },
     "execution_count": 90,
     "metadata": {},
     "output_type": "execute_result"
    }
   ],
   "source": [
    "df_2 = pd.DataFrame()\n",
    "df_2['dense_2_1'] = df_pr_dense1[2]\n",
    "df_2['dense_2_2'] = df_pr_dense2[2]\n",
    "df_2['dense_2_3'] = df_pr_dense3[2]\n",
    "df_2['dense_2_4'] = df_pr_dense4[2]\n",
    "df_2['dense_2_5'] = df_pr_dense5[2]\n",
    "# df_0['effic_0'] = df_pr_effic[0]\n",
    "\n",
    "df_2['inception_2_1'] = df_pr_inception1[2]\n",
    "df_2['inception_2_2'] = df_pr_inception2[2]\n",
    "df_2['inception_2_3'] = df_pr_inception3[2]\n",
    "df_2['inception_2_4'] = df_pr_inception4[2]\n",
    "df_2['inception_2_5'] = df_pr_inception5[2]\n",
    "\n",
    "df_2['rsnt_2_1'] = df_pr_rsnt1[2]\n",
    "df_2['rsnt_2_2'] = df_pr_rsnt2[2]\n",
    "df_2['rsnt_2_3'] = df_pr_rsnt3[2]\n",
    "df_2['rsnt_2_4'] = df_pr_rsnt4[2]\n",
    "df_2['rsnt_2_5'] = df_pr_rsnt5[2]\n",
    "\n",
    "df_2['mean'] = df_2.mean(axis = 1)\n",
    "df_2.head()"
   ]
  },
  {
   "cell_type": "code",
   "execution_count": 91,
   "id": "7f5c874b",
   "metadata": {
    "execution": {
     "iopub.execute_input": "2023-04-07T18:09:41.295838Z",
     "iopub.status.busy": "2023-04-07T18:09:41.295472Z",
     "iopub.status.idle": "2023-04-07T18:09:41.312475Z",
     "shell.execute_reply": "2023-04-07T18:09:41.311240Z"
    },
    "papermill": {
     "duration": 0.481348,
     "end_time": "2023-04-07T18:09:41.315481",
     "exception": false,
     "start_time": "2023-04-07T18:09:40.834133",
     "status": "completed"
    },
    "tags": []
   },
   "outputs": [
    {
     "data": {
      "text/html": [
       "<div>\n",
       "<style scoped>\n",
       "    .dataframe tbody tr th:only-of-type {\n",
       "        vertical-align: middle;\n",
       "    }\n",
       "\n",
       "    .dataframe tbody tr th {\n",
       "        vertical-align: top;\n",
       "    }\n",
       "\n",
       "    .dataframe thead th {\n",
       "        text-align: right;\n",
       "    }\n",
       "</style>\n",
       "<table border=\"1\" class=\"dataframe\">\n",
       "  <thead>\n",
       "    <tr style=\"text-align: right;\">\n",
       "      <th></th>\n",
       "      <th>mean_0</th>\n",
       "      <th>mean_1</th>\n",
       "      <th>mean_2</th>\n",
       "      <th>max</th>\n",
       "    </tr>\n",
       "  </thead>\n",
       "  <tbody>\n",
       "    <tr>\n",
       "      <th>0</th>\n",
       "      <td>0.694047</td>\n",
       "      <td>0.062775</td>\n",
       "      <td>0.243178</td>\n",
       "      <td>0.694047</td>\n",
       "    </tr>\n",
       "    <tr>\n",
       "      <th>1</th>\n",
       "      <td>0.766183</td>\n",
       "      <td>0.024492</td>\n",
       "      <td>0.209325</td>\n",
       "      <td>0.766183</td>\n",
       "    </tr>\n",
       "    <tr>\n",
       "      <th>2</th>\n",
       "      <td>0.617135</td>\n",
       "      <td>0.157511</td>\n",
       "      <td>0.225354</td>\n",
       "      <td>0.617135</td>\n",
       "    </tr>\n",
       "    <tr>\n",
       "      <th>3</th>\n",
       "      <td>0.687267</td>\n",
       "      <td>0.042280</td>\n",
       "      <td>0.270453</td>\n",
       "      <td>0.687267</td>\n",
       "    </tr>\n",
       "    <tr>\n",
       "      <th>4</th>\n",
       "      <td>0.450742</td>\n",
       "      <td>0.082939</td>\n",
       "      <td>0.466319</td>\n",
       "      <td>0.466319</td>\n",
       "    </tr>\n",
       "  </tbody>\n",
       "</table>\n",
       "</div>"
      ],
      "text/plain": [
       "     mean_0    mean_1    mean_2       max\n",
       "0  0.694047  0.062775  0.243178  0.694047\n",
       "1  0.766183  0.024492  0.209325  0.766183\n",
       "2  0.617135  0.157511  0.225354  0.617135\n",
       "3  0.687267  0.042280  0.270453  0.687267\n",
       "4  0.450742  0.082939  0.466319  0.466319"
      ]
     },
     "execution_count": 91,
     "metadata": {},
     "output_type": "execute_result"
    }
   ],
   "source": [
    "df_mean = pd.DataFrame()\n",
    "df_mean['mean_0'] = df_0['mean']\n",
    "df_mean['mean_1'] = df_1['mean']\n",
    "df_mean['mean_2'] = df_2['mean']\n",
    "df_mean['max'] = df_mean.max(axis = 'columns')\n",
    "df_mean.head()"
   ]
  },
  {
   "cell_type": "code",
   "execution_count": 92,
   "id": "ded484a2",
   "metadata": {
    "execution": {
     "iopub.execute_input": "2023-04-07T18:09:42.247770Z",
     "iopub.status.busy": "2023-04-07T18:09:42.247148Z",
     "iopub.status.idle": "2023-04-07T18:09:42.251762Z",
     "shell.execute_reply": "2023-04-07T18:09:42.250651Z"
    },
    "papermill": {
     "duration": 0.495004,
     "end_time": "2023-04-07T18:09:42.254500",
     "exception": false,
     "start_time": "2023-04-07T18:09:41.759496",
     "status": "completed"
    },
    "tags": []
   },
   "outputs": [],
   "source": [
    "# df_mean.head()"
   ]
  },
  {
   "cell_type": "code",
   "execution_count": 93,
   "id": "84ed7c98",
   "metadata": {
    "execution": {
     "iopub.execute_input": "2023-04-07T18:09:43.170124Z",
     "iopub.status.busy": "2023-04-07T18:09:43.168841Z",
     "iopub.status.idle": "2023-04-07T18:09:43.174816Z",
     "shell.execute_reply": "2023-04-07T18:09:43.173821Z"
    },
    "papermill": {
     "duration": 0.495185,
     "end_time": "2023-04-07T18:09:43.177460",
     "exception": false,
     "start_time": "2023-04-07T18:09:42.682275",
     "status": "completed"
    },
    "tags": []
   },
   "outputs": [],
   "source": [
    "# df_t = df_mean.drop(['max'],inplace = True)\n",
    "# df_t.head()"
   ]
  },
  {
   "cell_type": "code",
   "execution_count": 94,
   "id": "bc7c48df",
   "metadata": {
    "execution": {
     "iopub.execute_input": "2023-04-07T18:09:44.037590Z",
     "iopub.status.busy": "2023-04-07T18:09:44.037214Z",
     "iopub.status.idle": "2023-04-07T18:09:44.047012Z",
     "shell.execute_reply": "2023-04-07T18:09:44.046002Z"
    },
    "papermill": {
     "duration": 0.439799,
     "end_time": "2023-04-07T18:09:44.049097",
     "exception": false,
     "start_time": "2023-04-07T18:09:43.609298",
     "status": "completed"
    },
    "tags": []
   },
   "outputs": [
    {
     "data": {
      "text/html": [
       "<div>\n",
       "<style scoped>\n",
       "    .dataframe tbody tr th:only-of-type {\n",
       "        vertical-align: middle;\n",
       "    }\n",
       "\n",
       "    .dataframe tbody tr th {\n",
       "        vertical-align: top;\n",
       "    }\n",
       "\n",
       "    .dataframe thead th {\n",
       "        text-align: right;\n",
       "    }\n",
       "</style>\n",
       "<table border=\"1\" class=\"dataframe\">\n",
       "  <thead>\n",
       "    <tr style=\"text-align: right;\">\n",
       "      <th></th>\n",
       "      <th>0</th>\n",
       "    </tr>\n",
       "  </thead>\n",
       "  <tbody>\n",
       "    <tr>\n",
       "      <th>0</th>\n",
       "      <td>0</td>\n",
       "    </tr>\n",
       "    <tr>\n",
       "      <th>1</th>\n",
       "      <td>0</td>\n",
       "    </tr>\n",
       "    <tr>\n",
       "      <th>2</th>\n",
       "      <td>0</td>\n",
       "    </tr>\n",
       "    <tr>\n",
       "      <th>3</th>\n",
       "      <td>0</td>\n",
       "    </tr>\n",
       "    <tr>\n",
       "      <th>4</th>\n",
       "      <td>2</td>\n",
       "    </tr>\n",
       "  </tbody>\n",
       "</table>\n",
       "</div>"
      ],
      "text/plain": [
       "   0\n",
       "0  0\n",
       "1  0\n",
       "2  0\n",
       "3  0\n",
       "4  2"
      ]
     },
     "execution_count": 94,
     "metadata": {},
     "output_type": "execute_result"
    }
   ],
   "source": [
    "df_class = pd.DataFrame(np.argmax(np.array(df_mean), axis = 1))\n",
    "df_class.head()"
   ]
  },
  {
   "cell_type": "code",
   "execution_count": 95,
   "id": "90e5e1b8",
   "metadata": {
    "execution": {
     "iopub.execute_input": "2023-04-07T18:09:44.960843Z",
     "iopub.status.busy": "2023-04-07T18:09:44.960100Z",
     "iopub.status.idle": "2023-04-07T18:09:44.969136Z",
     "shell.execute_reply": "2023-04-07T18:09:44.968132Z"
    },
    "papermill": {
     "duration": 0.441398,
     "end_time": "2023-04-07T18:09:44.971423",
     "exception": false,
     "start_time": "2023-04-07T18:09:44.530025",
     "status": "completed"
    },
    "tags": []
   },
   "outputs": [
    {
     "data": {
      "text/html": [
       "<div>\n",
       "<style scoped>\n",
       "    .dataframe tbody tr th:only-of-type {\n",
       "        vertical-align: middle;\n",
       "    }\n",
       "\n",
       "    .dataframe tbody tr th {\n",
       "        vertical-align: top;\n",
       "    }\n",
       "\n",
       "    .dataframe thead th {\n",
       "        text-align: right;\n",
       "    }\n",
       "</style>\n",
       "<table border=\"1\" class=\"dataframe\">\n",
       "  <thead>\n",
       "    <tr style=\"text-align: right;\">\n",
       "      <th></th>\n",
       "      <th>0</th>\n",
       "    </tr>\n",
       "  </thead>\n",
       "  <tbody>\n",
       "    <tr>\n",
       "      <th>0</th>\n",
       "      <td>0</td>\n",
       "    </tr>\n",
       "    <tr>\n",
       "      <th>1</th>\n",
       "      <td>0</td>\n",
       "    </tr>\n",
       "    <tr>\n",
       "      <th>2</th>\n",
       "      <td>0</td>\n",
       "    </tr>\n",
       "    <tr>\n",
       "      <th>3</th>\n",
       "      <td>0</td>\n",
       "    </tr>\n",
       "    <tr>\n",
       "      <th>4</th>\n",
       "      <td>2</td>\n",
       "    </tr>\n",
       "    <tr>\n",
       "      <th>5</th>\n",
       "      <td>2</td>\n",
       "    </tr>\n",
       "    <tr>\n",
       "      <th>6</th>\n",
       "      <td>0</td>\n",
       "    </tr>\n",
       "    <tr>\n",
       "      <th>7</th>\n",
       "      <td>0</td>\n",
       "    </tr>\n",
       "    <tr>\n",
       "      <th>8</th>\n",
       "      <td>0</td>\n",
       "    </tr>\n",
       "    <tr>\n",
       "      <th>9</th>\n",
       "      <td>0</td>\n",
       "    </tr>\n",
       "    <tr>\n",
       "      <th>10</th>\n",
       "      <td>0</td>\n",
       "    </tr>\n",
       "    <tr>\n",
       "      <th>11</th>\n",
       "      <td>0</td>\n",
       "    </tr>\n",
       "    <tr>\n",
       "      <th>12</th>\n",
       "      <td>2</td>\n",
       "    </tr>\n",
       "    <tr>\n",
       "      <th>13</th>\n",
       "      <td>0</td>\n",
       "    </tr>\n",
       "    <tr>\n",
       "      <th>14</th>\n",
       "      <td>2</td>\n",
       "    </tr>\n",
       "    <tr>\n",
       "      <th>15</th>\n",
       "      <td>0</td>\n",
       "    </tr>\n",
       "    <tr>\n",
       "      <th>16</th>\n",
       "      <td>0</td>\n",
       "    </tr>\n",
       "    <tr>\n",
       "      <th>17</th>\n",
       "      <td>0</td>\n",
       "    </tr>\n",
       "    <tr>\n",
       "      <th>18</th>\n",
       "      <td>2</td>\n",
       "    </tr>\n",
       "    <tr>\n",
       "      <th>19</th>\n",
       "      <td>0</td>\n",
       "    </tr>\n",
       "  </tbody>\n",
       "</table>\n",
       "</div>"
      ],
      "text/plain": [
       "    0\n",
       "0   0\n",
       "1   0\n",
       "2   0\n",
       "3   0\n",
       "4   2\n",
       "5   2\n",
       "6   0\n",
       "7   0\n",
       "8   0\n",
       "9   0\n",
       "10  0\n",
       "11  0\n",
       "12  2\n",
       "13  0\n",
       "14  2\n",
       "15  0\n",
       "16  0\n",
       "17  0\n",
       "18  2\n",
       "19  0"
      ]
     },
     "execution_count": 95,
     "metadata": {},
     "output_type": "execute_result"
    }
   ],
   "source": [
    "df_class.head(20)"
   ]
  },
  {
   "cell_type": "code",
   "execution_count": 96,
   "id": "7168b44c",
   "metadata": {
    "execution": {
     "iopub.execute_input": "2023-04-07T18:09:45.888261Z",
     "iopub.status.busy": "2023-04-07T18:09:45.887858Z",
     "iopub.status.idle": "2023-04-07T18:09:45.895408Z",
     "shell.execute_reply": "2023-04-07T18:09:45.894061Z"
    },
    "papermill": {
     "duration": 0.497297,
     "end_time": "2023-04-07T18:09:45.897548",
     "exception": false,
     "start_time": "2023-04-07T18:09:45.400251",
     "status": "completed"
    },
    "tags": []
   },
   "outputs": [
    {
     "name": "stdout",
     "output_type": "stream",
     "text": [
      "0.5186481960724616\n"
     ]
    }
   ],
   "source": [
    "from sklearn.metrics import accuracy_score\n",
    "score2 = accuracy_score(df_class, train_csv_valid['Class'])\n",
    "print(score2)"
   ]
  },
  {
   "cell_type": "code",
   "execution_count": 97,
   "id": "1cab2d9f",
   "metadata": {
    "execution": {
     "iopub.execute_input": "2023-04-07T18:09:46.756237Z",
     "iopub.status.busy": "2023-04-07T18:09:46.755192Z",
     "iopub.status.idle": "2023-04-07T18:09:46.759891Z",
     "shell.execute_reply": "2023-04-07T18:09:46.758861Z"
    },
    "papermill": {
     "duration": 0.436952,
     "end_time": "2023-04-07T18:09:46.761970",
     "exception": false,
     "start_time": "2023-04-07T18:09:46.325018",
     "status": "completed"
    },
    "tags": []
   },
   "outputs": [],
   "source": [
    "# df_mean.head()"
   ]
  },
  {
   "cell_type": "code",
   "execution_count": 98,
   "id": "304017ae",
   "metadata": {
    "execution": {
     "iopub.execute_input": "2023-04-07T18:09:47.682036Z",
     "iopub.status.busy": "2023-04-07T18:09:47.681072Z",
     "iopub.status.idle": "2023-04-07T18:09:47.686184Z",
     "shell.execute_reply": "2023-04-07T18:09:47.685141Z"
    },
    "papermill": {
     "duration": 0.439315,
     "end_time": "2023-04-07T18:09:47.688329",
     "exception": false,
     "start_time": "2023-04-07T18:09:47.249014",
     "status": "completed"
    },
    "tags": []
   },
   "outputs": [],
   "source": [
    "# np.array(df_mean)"
   ]
  },
  {
   "cell_type": "code",
   "execution_count": 99,
   "id": "886b6ba9",
   "metadata": {
    "execution": {
     "iopub.execute_input": "2023-04-07T18:09:48.607144Z",
     "iopub.status.busy": "2023-04-07T18:09:48.606247Z",
     "iopub.status.idle": "2023-04-07T18:09:48.611081Z",
     "shell.execute_reply": "2023-04-07T18:09:48.609958Z"
    },
    "papermill": {
     "duration": 0.495362,
     "end_time": "2023-04-07T18:09:48.613241",
     "exception": false,
     "start_time": "2023-04-07T18:09:48.117879",
     "status": "completed"
    },
    "tags": []
   },
   "outputs": [],
   "source": [
    "# predictions = new_model.predict(test_set)    \n",
    "# pred_labels = np.argmax(predictions, axis = 1)\n",
    "# pred_labels.head()"
   ]
  },
  {
   "cell_type": "code",
   "execution_count": 100,
   "id": "f09a00ee",
   "metadata": {
    "execution": {
     "iopub.execute_input": "2023-04-07T18:09:49.475096Z",
     "iopub.status.busy": "2023-04-07T18:09:49.474062Z",
     "iopub.status.idle": "2023-04-07T18:09:49.478945Z",
     "shell.execute_reply": "2023-04-07T18:09:49.478002Z"
    },
    "papermill": {
     "duration": 0.436522,
     "end_time": "2023-04-07T18:09:49.481061",
     "exception": false,
     "start_time": "2023-04-07T18:09:49.044539",
     "status": "completed"
    },
    "tags": []
   },
   "outputs": [],
   "source": [
    "# pred_labels = pd.DataFrame(pred_labels, columns = ['Class'])\n",
    "# pred_labels.head()"
   ]
  },
  {
   "cell_type": "code",
   "execution_count": 101,
   "id": "ca014192",
   "metadata": {
    "execution": {
     "iopub.execute_input": "2023-04-07T18:09:50.423563Z",
     "iopub.status.busy": "2023-04-07T18:09:50.423198Z",
     "iopub.status.idle": "2023-04-07T18:09:50.427344Z",
     "shell.execute_reply": "2023-04-07T18:09:50.426338Z"
    },
    "papermill": {
     "duration": 0.465606,
     "end_time": "2023-04-07T18:09:50.429481",
     "exception": false,
     "start_time": "2023-04-07T18:09:49.963875",
     "status": "completed"
    },
    "tags": []
   },
   "outputs": [],
   "source": [
    "# pred_labels = pred_labels.replace([0,1,2], ['MIDDLE', 'OLD', 'YOUNG'])\n",
    "# pred_labels.head()"
   ]
  },
  {
   "cell_type": "code",
   "execution_count": 102,
   "id": "05f15c1a",
   "metadata": {
    "execution": {
     "iopub.execute_input": "2023-04-07T18:09:51.434277Z",
     "iopub.status.busy": "2023-04-07T18:09:51.433876Z",
     "iopub.status.idle": "2023-04-07T18:09:51.438521Z",
     "shell.execute_reply": "2023-04-07T18:09:51.437503Z"
    },
    "papermill": {
     "duration": 0.580347,
     "end_time": "2023-04-07T18:09:51.440733",
     "exception": false,
     "start_time": "2023-04-07T18:09:50.860386",
     "status": "completed"
    },
    "tags": []
   },
   "outputs": [],
   "source": [
    "# import os \n",
    "# dir_list = os.listdir('/kaggle/input/age-detection-analytics-vidhya-peter/test_Bh8pGW3/Test/')\n",
    "# # print(dir_list) --> To print the list of the files\n",
    "# dir_list = pd.DataFrame(dir_list, columns = ['ID'])\n",
    "# dir_list.sort_values(by = 'ID', inplace = True)\n",
    "# dir_list.head()"
   ]
  },
  {
   "cell_type": "code",
   "execution_count": 103,
   "id": "bcf74ff5",
   "metadata": {
    "execution": {
     "iopub.execute_input": "2023-04-07T18:09:52.303899Z",
     "iopub.status.busy": "2023-04-07T18:09:52.303529Z",
     "iopub.status.idle": "2023-04-07T18:09:52.307900Z",
     "shell.execute_reply": "2023-04-07T18:09:52.306852Z"
    },
    "papermill": {
     "duration": 0.438327,
     "end_time": "2023-04-07T18:09:52.309979",
     "exception": false,
     "start_time": "2023-04-07T18:09:51.871652",
     "status": "completed"
    },
    "tags": []
   },
   "outputs": [],
   "source": [
    "# dir_list = dir_list.reset_index(drop = True)\n",
    "# # dir_list.drop(['index'], axis = 1)\n",
    "# dir_list.head()"
   ]
  },
  {
   "cell_type": "code",
   "execution_count": 104,
   "id": "e175ea43",
   "metadata": {
    "execution": {
     "iopub.execute_input": "2023-04-07T18:09:53.223616Z",
     "iopub.status.busy": "2023-04-07T18:09:53.223246Z",
     "iopub.status.idle": "2023-04-07T18:09:53.227554Z",
     "shell.execute_reply": "2023-04-07T18:09:53.226528Z"
    },
    "papermill": {
     "duration": 0.439559,
     "end_time": "2023-04-07T18:09:53.229702",
     "exception": false,
     "start_time": "2023-04-07T18:09:52.790143",
     "status": "completed"
    },
    "tags": []
   },
   "outputs": [],
   "source": [
    "# test_final = pd.concat([dir_list, pred_labels], axis = 1)\n",
    "# test_final.head(20)"
   ]
  },
  {
   "cell_type": "code",
   "execution_count": 105,
   "id": "e5bdc0ab",
   "metadata": {
    "execution": {
     "iopub.execute_input": "2023-04-07T18:09:54.144340Z",
     "iopub.status.busy": "2023-04-07T18:09:54.143291Z",
     "iopub.status.idle": "2023-04-07T18:09:54.148204Z",
     "shell.execute_reply": "2023-04-07T18:09:54.146993Z"
    },
    "papermill": {
     "duration": 0.493157,
     "end_time": "2023-04-07T18:09:54.150364",
     "exception": false,
     "start_time": "2023-04-07T18:09:53.657207",
     "status": "completed"
    },
    "tags": []
   },
   "outputs": [],
   "source": [
    "# test_df = pd.read_csv('/kaggle/input/age-detection-analytics-vidhya-peter/test_Bh8pGW3/test.csv')\n",
    "# test_df.head()"
   ]
  },
  {
   "cell_type": "code",
   "execution_count": 106,
   "id": "8bbda8cf",
   "metadata": {
    "execution": {
     "iopub.execute_input": "2023-04-07T18:09:55.011220Z",
     "iopub.status.busy": "2023-04-07T18:09:55.010839Z",
     "iopub.status.idle": "2023-04-07T18:09:55.015137Z",
     "shell.execute_reply": "2023-04-07T18:09:55.014172Z"
    },
    "papermill": {
     "duration": 0.441093,
     "end_time": "2023-04-07T18:09:55.017242",
     "exception": false,
     "start_time": "2023-04-07T18:09:54.576149",
     "status": "completed"
    },
    "tags": []
   },
   "outputs": [],
   "source": [
    "# test_df_final = test_df.merge(test_final, how = 'left')\n",
    "# test_df_final.head(20)"
   ]
  },
  {
   "cell_type": "code",
   "execution_count": 107,
   "id": "ddadc2df",
   "metadata": {
    "execution": {
     "iopub.execute_input": "2023-04-07T18:09:55.927263Z",
     "iopub.status.busy": "2023-04-07T18:09:55.926869Z",
     "iopub.status.idle": "2023-04-07T18:09:55.931182Z",
     "shell.execute_reply": "2023-04-07T18:09:55.930185Z"
    },
    "papermill": {
     "duration": 0.487443,
     "end_time": "2023-04-07T18:09:55.933210",
     "exception": false,
     "start_time": "2023-04-07T18:09:55.445767",
     "status": "completed"
    },
    "tags": []
   },
   "outputs": [],
   "source": [
    "# test_df_final.unique()"
   ]
  },
  {
   "cell_type": "code",
   "execution_count": 108,
   "id": "bdc637c6",
   "metadata": {
    "execution": {
     "iopub.execute_input": "2023-04-07T18:09:56.791693Z",
     "iopub.status.busy": "2023-04-07T18:09:56.791328Z",
     "iopub.status.idle": "2023-04-07T18:09:56.795797Z",
     "shell.execute_reply": "2023-04-07T18:09:56.794805Z"
    },
    "papermill": {
     "duration": 0.436953,
     "end_time": "2023-04-07T18:09:56.797902",
     "exception": false,
     "start_time": "2023-04-07T18:09:56.360949",
     "status": "completed"
    },
    "tags": []
   },
   "outputs": [],
   "source": [
    "# test_df_final = test_df_final.reindex(columns = ['Class','ID'])\n",
    "# test_df_final.head()"
   ]
  },
  {
   "cell_type": "code",
   "execution_count": 109,
   "id": "c3debedb",
   "metadata": {
    "execution": {
     "iopub.execute_input": "2023-04-07T18:09:57.730224Z",
     "iopub.status.busy": "2023-04-07T18:09:57.729842Z",
     "iopub.status.idle": "2023-04-07T18:09:57.734400Z",
     "shell.execute_reply": "2023-04-07T18:09:57.733385Z"
    },
    "papermill": {
     "duration": 0.457144,
     "end_time": "2023-04-07T18:09:57.736715",
     "exception": false,
     "start_time": "2023-04-07T18:09:57.279571",
     "status": "completed"
    },
    "tags": []
   },
   "outputs": [],
   "source": [
    "# test_df_final.to_csv('submission.csv', index = False)"
   ]
  },
  {
   "cell_type": "code",
   "execution_count": 110,
   "id": "d157aa4d",
   "metadata": {
    "execution": {
     "iopub.execute_input": "2023-04-07T18:09:58.650810Z",
     "iopub.status.busy": "2023-04-07T18:09:58.650426Z",
     "iopub.status.idle": "2023-04-07T18:09:58.654764Z",
     "shell.execute_reply": "2023-04-07T18:09:58.653702Z"
    },
    "papermill": {
     "duration": 0.491729,
     "end_time": "2023-04-07T18:09:58.656810",
     "exception": false,
     "start_time": "2023-04-07T18:09:58.165081",
     "status": "completed"
    },
    "tags": []
   },
   "outputs": [],
   "source": [
    "# submission = pd.read_csv('/kaggle/working/submission.csv')\n",
    "# submission.head()"
   ]
  },
  {
   "cell_type": "code",
   "execution_count": 111,
   "id": "0b87ef9c",
   "metadata": {
    "execution": {
     "iopub.execute_input": "2023-04-07T18:09:59.521268Z",
     "iopub.status.busy": "2023-04-07T18:09:59.520858Z",
     "iopub.status.idle": "2023-04-07T18:09:59.525586Z",
     "shell.execute_reply": "2023-04-07T18:09:59.524228Z"
    },
    "papermill": {
     "duration": 0.441809,
     "end_time": "2023-04-07T18:09:59.527715",
     "exception": false,
     "start_time": "2023-04-07T18:09:59.085906",
     "status": "completed"
    },
    "tags": []
   },
   "outputs": [],
   "source": [
    "# ## Saving model\n",
    "# tl_model.save('/kaggle/working/age_detection.h5')\n",
    "# print('Model Saved!')"
   ]
  },
  {
   "cell_type": "code",
   "execution_count": 112,
   "id": "b661cd7b",
   "metadata": {
    "execution": {
     "iopub.execute_input": "2023-04-07T18:10:00.451163Z",
     "iopub.status.busy": "2023-04-07T18:10:00.450791Z",
     "iopub.status.idle": "2023-04-07T18:10:00.455184Z",
     "shell.execute_reply": "2023-04-07T18:10:00.454206Z"
    },
    "papermill": {
     "duration": 0.445774,
     "end_time": "2023-04-07T18:10:00.457274",
     "exception": false,
     "start_time": "2023-04-07T18:10:00.011500",
     "status": "completed"
    },
    "tags": []
   },
   "outputs": [],
   "source": [
    "# ## Saving weights\n",
    "# tl_model.save_weights('/kaggle/working/age_detection_weights.h5')\n",
    "# print('Weight saved!')"
   ]
  },
  {
   "cell_type": "code",
   "execution_count": null,
   "id": "9cb8ae90",
   "metadata": {
    "papermill": {
     "duration": 0.484832,
     "end_time": "2023-04-07T18:10:01.371522",
     "exception": false,
     "start_time": "2023-04-07T18:10:00.886690",
     "status": "completed"
    },
    "tags": []
   },
   "outputs": [],
   "source": []
  },
  {
   "cell_type": "code",
   "execution_count": null,
   "id": "2558ba61",
   "metadata": {
    "papermill": {
     "duration": 0.490861,
     "end_time": "2023-04-07T18:10:02.292692",
     "exception": false,
     "start_time": "2023-04-07T18:10:01.801831",
     "status": "completed"
    },
    "tags": []
   },
   "outputs": [],
   "source": []
  }
 ],
 "metadata": {
  "kernelspec": {
   "display_name": "Python 3",
   "language": "python",
   "name": "python3"
  },
  "language_info": {
   "codemirror_mode": {
    "name": "ipython",
    "version": 3
   },
   "file_extension": ".py",
   "mimetype": "text/x-python",
   "name": "python",
   "nbconvert_exporter": "python",
   "pygments_lexer": "ipython3",
   "version": "3.7.12"
  },
  "papermill": {
   "default_parameters": {},
   "duration": 1002.507784,
   "end_time": "2023-04-07T18:10:06.236828",
   "environment_variables": {},
   "exception": null,
   "input_path": "__notebook__.ipynb",
   "output_path": "__notebook__.ipynb",
   "parameters": {},
   "start_time": "2023-04-07T17:53:23.729044",
   "version": "2.4.0"
  }
 },
 "nbformat": 4,
 "nbformat_minor": 5
}
